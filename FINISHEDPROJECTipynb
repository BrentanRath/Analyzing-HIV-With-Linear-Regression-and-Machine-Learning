{
  "nbformat": 4,
  "nbformat_minor": 0,
  "metadata": {
    "colab": {
      "provenance": [],
      "authorship_tag": "ABX9TyMmEYnk0HkSEwIeFOAR00Rl",
      "include_colab_link": true
    },
    "kernelspec": {
      "name": "python3",
      "display_name": "Python 3"
    },
    "language_info": {
      "name": "python"
    },
    "widgets": {
      "application/vnd.jupyter.widget-state+json": {
        "5c9146772cc9402198c91bf4223d6e53": {
          "model_module": "@jupyter-widgets/controls",
          "model_name": "IntTextModel",
          "model_module_version": "1.5.0",
          "state": {
            "_dom_classes": [],
            "_model_module": "@jupyter-widgets/controls",
            "_model_module_version": "1.5.0",
            "_model_name": "IntTextModel",
            "_view_count": null,
            "_view_module": "@jupyter-widgets/controls",
            "_view_module_version": "1.5.0",
            "_view_name": "IntTextView",
            "continuous_update": false,
            "description": "Year:",
            "description_tooltip": null,
            "disabled": false,
            "layout": "IPY_MODEL_c782df106be04c22a1a34cf611217add",
            "step": 1,
            "style": "IPY_MODEL_437c43834a044dc1b25c087ddee2428b",
            "value": 2030
          }
        },
        "c782df106be04c22a1a34cf611217add": {
          "model_module": "@jupyter-widgets/base",
          "model_name": "LayoutModel",
          "model_module_version": "1.2.0",
          "state": {
            "_model_module": "@jupyter-widgets/base",
            "_model_module_version": "1.2.0",
            "_model_name": "LayoutModel",
            "_view_count": null,
            "_view_module": "@jupyter-widgets/base",
            "_view_module_version": "1.2.0",
            "_view_name": "LayoutView",
            "align_content": null,
            "align_items": null,
            "align_self": null,
            "border": null,
            "bottom": null,
            "display": null,
            "flex": null,
            "flex_flow": null,
            "grid_area": null,
            "grid_auto_columns": null,
            "grid_auto_flow": null,
            "grid_auto_rows": null,
            "grid_column": null,
            "grid_gap": null,
            "grid_row": null,
            "grid_template_areas": null,
            "grid_template_columns": null,
            "grid_template_rows": null,
            "height": null,
            "justify_content": null,
            "justify_items": null,
            "left": null,
            "margin": null,
            "max_height": null,
            "max_width": null,
            "min_height": null,
            "min_width": null,
            "object_fit": null,
            "object_position": null,
            "order": null,
            "overflow": null,
            "overflow_x": null,
            "overflow_y": null,
            "padding": null,
            "right": null,
            "top": null,
            "visibility": null,
            "width": null
          }
        },
        "437c43834a044dc1b25c087ddee2428b": {
          "model_module": "@jupyter-widgets/controls",
          "model_name": "DescriptionStyleModel",
          "model_module_version": "1.5.0",
          "state": {
            "_model_module": "@jupyter-widgets/controls",
            "_model_module_version": "1.5.0",
            "_model_name": "DescriptionStyleModel",
            "_view_count": null,
            "_view_module": "@jupyter-widgets/base",
            "_view_module_version": "1.2.0",
            "_view_name": "StyleView",
            "description_width": ""
          }
        },
        "021ce72e2ebc423b8c35c5de5521b66d": {
          "model_module": "@jupyter-widgets/controls",
          "model_name": "ButtonModel",
          "model_module_version": "1.5.0",
          "state": {
            "_dom_classes": [],
            "_model_module": "@jupyter-widgets/controls",
            "_model_module_version": "1.5.0",
            "_model_name": "ButtonModel",
            "_view_count": null,
            "_view_module": "@jupyter-widgets/controls",
            "_view_module_version": "1.5.0",
            "_view_name": "ButtonView",
            "button_style": "",
            "description": "Predict and Plot",
            "disabled": false,
            "icon": "",
            "layout": "IPY_MODEL_352728c7189d44c190083ec605024d34",
            "style": "IPY_MODEL_470f5f3093794236be9266d79edd4b0b",
            "tooltip": ""
          }
        },
        "352728c7189d44c190083ec605024d34": {
          "model_module": "@jupyter-widgets/base",
          "model_name": "LayoutModel",
          "model_module_version": "1.2.0",
          "state": {
            "_model_module": "@jupyter-widgets/base",
            "_model_module_version": "1.2.0",
            "_model_name": "LayoutModel",
            "_view_count": null,
            "_view_module": "@jupyter-widgets/base",
            "_view_module_version": "1.2.0",
            "_view_name": "LayoutView",
            "align_content": null,
            "align_items": null,
            "align_self": null,
            "border": null,
            "bottom": null,
            "display": null,
            "flex": null,
            "flex_flow": null,
            "grid_area": null,
            "grid_auto_columns": null,
            "grid_auto_flow": null,
            "grid_auto_rows": null,
            "grid_column": null,
            "grid_gap": null,
            "grid_row": null,
            "grid_template_areas": null,
            "grid_template_columns": null,
            "grid_template_rows": null,
            "height": null,
            "justify_content": null,
            "justify_items": null,
            "left": null,
            "margin": null,
            "max_height": null,
            "max_width": null,
            "min_height": null,
            "min_width": null,
            "object_fit": null,
            "object_position": null,
            "order": null,
            "overflow": null,
            "overflow_x": null,
            "overflow_y": null,
            "padding": null,
            "right": null,
            "top": null,
            "visibility": null,
            "width": null
          }
        },
        "470f5f3093794236be9266d79edd4b0b": {
          "model_module": "@jupyter-widgets/controls",
          "model_name": "ButtonStyleModel",
          "model_module_version": "1.5.0",
          "state": {
            "_model_module": "@jupyter-widgets/controls",
            "_model_module_version": "1.5.0",
            "_model_name": "ButtonStyleModel",
            "_view_count": null,
            "_view_module": "@jupyter-widgets/base",
            "_view_module_version": "1.2.0",
            "_view_name": "StyleView",
            "button_color": null,
            "font_weight": ""
          }
        },
        "b2295ac260ea4f3d97ab4a5242012ecd": {
          "model_module": "@jupyter-widgets/output",
          "model_name": "OutputModel",
          "model_module_version": "1.0.0",
          "state": {
            "_dom_classes": [],
            "_model_module": "@jupyter-widgets/output",
            "_model_module_version": "1.0.0",
            "_model_name": "OutputModel",
            "_view_count": null,
            "_view_module": "@jupyter-widgets/output",
            "_view_module_version": "1.0.0",
            "_view_name": "OutputView",
            "layout": "IPY_MODEL_96dc1a4902114bae9a8aef6d4f3a49de",
            "msg_id": "",
            "outputs": []
          }
        },
        "96dc1a4902114bae9a8aef6d4f3a49de": {
          "model_module": "@jupyter-widgets/base",
          "model_name": "LayoutModel",
          "model_module_version": "1.2.0",
          "state": {
            "_model_module": "@jupyter-widgets/base",
            "_model_module_version": "1.2.0",
            "_model_name": "LayoutModel",
            "_view_count": null,
            "_view_module": "@jupyter-widgets/base",
            "_view_module_version": "1.2.0",
            "_view_name": "LayoutView",
            "align_content": null,
            "align_items": null,
            "align_self": null,
            "border": null,
            "bottom": null,
            "display": null,
            "flex": null,
            "flex_flow": null,
            "grid_area": null,
            "grid_auto_columns": null,
            "grid_auto_flow": null,
            "grid_auto_rows": null,
            "grid_column": null,
            "grid_gap": null,
            "grid_row": null,
            "grid_template_areas": null,
            "grid_template_columns": null,
            "grid_template_rows": null,
            "height": null,
            "justify_content": null,
            "justify_items": null,
            "left": null,
            "margin": null,
            "max_height": null,
            "max_width": null,
            "min_height": null,
            "min_width": null,
            "object_fit": null,
            "object_position": null,
            "order": null,
            "overflow": null,
            "overflow_x": null,
            "overflow_y": null,
            "padding": null,
            "right": null,
            "top": null,
            "visibility": null,
            "width": null
          }
        }
      }
    }
  },
  "cells": [
    {
      "cell_type": "markdown",
      "metadata": {
        "id": "view-in-github",
        "colab_type": "text"
      },
      "source": [
        "<a href=\"https://colab.research.google.com/github/BrentanRath/Analyzing-HIV-With-Linear-Regression-and-Machine-Learning/blob/main/FINISHEDPROJECTipynb\" target=\"_parent\"><img src=\"https://colab.research.google.com/assets/colab-badge.svg\" alt=\"Open In Colab\"/></a>"
      ]
    },
    {
      "cell_type": "markdown",
      "metadata": {
        "id": "81fc0589"
      },
      "source": [
        "# AP Calculus A/B Quarter 1 Project\n",
        "*By Brentan R. Rath, Junior at Commonwealth Academy*\n",
        "\n",
        "* * *\n",
        "\n",
        "When I heard from my teacher that I could do research on a disease and work on using data to predict it, I was thrilled. So I took this chance to practice my Data Science and Machine Learning skills.\n",
        "\n",
        "I chose HIV for my project as it might have a large impact on my life and hurts many people, even a few that I know and would call friends. As well as it does have a lot of data for it.\n",
        "\n",
        "Sadly, missing a lot of needed data, my Neural Network was not able to actually make the predictions with the accuracy I wanted."
      ]
    },
    {
      "cell_type": "markdown",
      "metadata": {
        "id": "cc1219a3"
      },
      "source": [
        "## Graph 1 (Polynomial Fits)\n",
        "\n",
        "This is the first graph I needed to make for my assignment. I needed to find polynomial functions and then use linear regression to graph the amount of new cases with the years past. This graph now shows two polynomial fits: a 3rd-degree and a 4th-degree polynomial, as required by the assignment.\n",
        "\n",
        "For this graph, I do that, then find the polynomial fits.\n",
        "\n",
        "The polynomial functions used to fit the data are:\n",
        "$$ P_3(x) = ax^3 + bx^2 + cx + d $$\n",
        "$$ P_4(x) = ex^4 + fx^3 + gx^2 + hx + i $$\n",
        "where $x$ is the Year and $P(x)$ is the predicted Population. The coefficients are determined by the polynomial fit using linear regression.\n",
        "\n",
        "Linear regression is a method used to find the best-fitting line (or in this case, a curve) through a set of data points by minimizing the sum of the squared differences between the observed values and the values predicted by the model.\n",
        "\n",
        "* * *\n",
        "\n",
        "### Calculation Breakdown\n",
        "\n",
        "This is the process I used when creating this graph and polynomial fits, following these steps:\n",
        "\n",
        "*casing may not match actual code, using snake case for simplicity.*\n",
        "\n",
        "1. **Data Selection**: We selected the 'Year' and 'Population' columns from the global HIV data.\n",
        "2. **Polynomial Fit (3rd Degree)**: A polynomial of degree 3 was fitted to the 'Year' and 'Population' data using the `numpy.polyfit` function. This function returns the coefficients of the polynomial.\n",
        "$$ \\texttt{coefficients\\_degree3} = \\texttt{np.polyfit(x, y, 3)} $$\n",
        "3. **Polynomial Function Creation (3rd Degree)**: A polynomial function was created using the obtained coefficients with the `numpy.poly1d` function.\n",
        "$$ \\texttt{polynomial\\_function\\_degree3} = \\texttt{np.poly1d(coefficients\\_degree3)} $$\n",
        "4. **Polynomial Fit (4th Degree)**: A polynomial of degree 4 was fitted to the 'Year' and 'Population' data using the `numpy.polyfit` function.\n",
        "$$ \\texttt{coefficients\\_degree4} = \\texttt{np.polyfit(x, y, 4)} $$\n",
        "5. **Polynomial Function Creation (4th Degree)**: A polynomial function was created using the obtained coefficients with the `numpy.poly1d` function.\n",
        "$$ \\texttt{polynomial\\_function\\_degree4} = \\texttt{np.poly1d(coefficients\\_degree4)} $$\n",
        "6. **Curve Generation**: Smooth curves representing the polynomial fits were generated by evaluating the functions over a range of years using `numpy.linspace`.\n",
        "$$ \\texttt{x\\_curve} = \\texttt{np.linspace(min(Year), max(Year), 100)} $$\n",
        "$$ \\texttt{y\\_curve\\_degree3} = \\texttt{polynomial\\_function\\_degree3(x\\_curve)} $$\n",
        "$$ \\texttt{y\\_curve\\_degree4} = \\texttt{polynomial\\_function\\_degree4(x\\_curve)} $$\n",
        "7. **Visualization**: The original data points and the generated polynomial fit curves were plotted using `matplotlib.pyplot`.\n",
        "\n",
        "* * *\n",
        "\n",
        "### Completed Graph\n",
        "This should be the finished graph if you ran the code correctly.\n",
        "![Polynomial Fits Graph](https://github.com/BrentanRath/Analyzing-HIV-With-Linear-Regression-and-Machine-Learning/blob/main/polynomialFits.png?raw=true)"
      ]
    },
    {
      "cell_type": "markdown",
      "metadata": {
        "id": "4e1edf0f"
      },
      "source": [
        "## Graph 2 (Polynomial Prediction)\n",
        "\n",
        "This graph shows the original data points, the polynomial fit curve from the first graph, and a prediction for the year 2030 using the same polynomial function.\n",
        "\n",
        "To make this prediction, the year 2030 is plugged into the polynomial function:\n",
        "$$ P(2030) = a(2030)^3 + b(2030)^2 + c(2030) + d $$\n",
        "where $a$, $b$, $c$, and $d$ are the coefficients determined by the polynomial fit.\n",
        "\n",
        "The prediction for 2030 is then plotted as a distinct point on the graph.\n",
        "\n",
        "### Calculation Breakdown\n",
        "\n",
        "The process for generating this prediction and graph is as follows:\n",
        "\n",
        "*casing may not match actual code, using snake case for simplicity.*\\\n",
        "\n",
        "1.  **Prediction Calculation**: The polynomial function is evaluated at the input year (defaulting to 2030) to get the predicted population for that year.\n",
        "    $$ \\texttt{predicted\\_population} = \\texttt{polynomial\\_function(year)} $$\n",
        "2.  **Visualization**: The original data, the polynomial fit curve, and the predicted point for the specified year are plotted using `matplotlib.pyplot`.\n",
        "\n",
        "### Completed Graph\n",
        "This should be the finished graph if you ran the code correctly.\n",
        "![Graph](https://github.com/BrentanRath/Analyzing-HIV-With-Linear-Regression-and-Machine-Learning/blob/main/2030.png?raw=true)"
      ]
    },
    {
      "cell_type": "markdown",
      "metadata": {
        "id": "62a5bae8"
      },
      "source": [
        "## Neural Network\n",
        "\n",
        "This section details the attempt to use a neural network to predict HIV cases based on the year. While the model's accuracy was limited due to the dataset's characteristics, the process demonstrates the fundamental steps involved in building and training a simple neural network for regression.\n",
        "\n",
        "The goal was to build a model that learns the relationship between the 'Year' and 'Population' data to make future predictions.\n",
        "\n",
        "* * *\n",
        "\n",
        "### Calculation Breakdown\n",
        "\n",
        "The following steps were taken to build and train the neural network:\n",
        "\n",
        "*casing may not match actual code, using snake case for simplicity.*\n",
        "\n",
        "1. **Data Scaling**: The 'Year' and 'Population' data were scaled using `MinMaxScaler`. Scaling is important for neural networks as it helps improve training stability and performance.\n",
        "$$ \\texttt{scaled\\_data} = \\texttt{MinMaxScaler().fit\\_transform(original\\_data)} $$\n",
        "\n",
        "This transforms the data to a range between 0 and 1.\n",
        "\n",
        "2. **Model Creation**: A simple sequential neural network model was created using `tensorflow.keras.models.Sequential`.\n",
        "$$ \\texttt{model} = \\texttt{Sequential()} $$\n",
        "A dense layer with 64 units and ReLU activation was added as the input layer, followed by an output layer with 1 unit for the population prediction.\n",
        "$$ \\texttt{model.add(Dense(units=64, activation='relu', input\\_shape=(1,)))} $$\n",
        "$$ \\texttt{model.add(Dense(units=1))} $$\n",
        "3. **Model Compilation**: The model was compiled using the Adam optimizer and Mean Squared Error (MSE) as the loss function. MSE measures the average squared difference between the predicted and actual values, a common loss function for regression tasks.\n",
        "$$ \\texttt{model.compile(optimizer='adam', loss='mean\\_squared\\_error')} $$\n",
        "\n",
        "4. **Model Training**: The model was trained using the scaled 'Year' data as input and the scaled 'Population' data as the target variable. The training was performed for 100 epochs with a batch size of 32.\n",
        "$$ \\texttt{history} = \\texttt{model.fit(scaled\\_years, scaled\\_population, epochs=100, batch\\_size=32)} $$\n",
        "\n",
        "5. **Prediction**: Predictions were made using the trained model on the scaled 'Year' data and the scaled input year for future prediction. The inverse transform was applied to the predictions to return them to the original scale.\n",
        "$$ \\texttt{scaled\\_predictions} = \\texttt{model.predict(scaled\\_years)} $$\n",
        "$$ \\texttt{predictions} = \\texttt{scaler.inverse\\_transform(scaled\\_predictions)} $$\n",
        "\n",
        "6. **Visualization**: The original data, the polynomial fit from the previous section, and the neural network's fit and future prediction were plotted using `matplotlib.pyplot` for comparison.\n",
        "\n",
        "* * *\n",
        "\n",
        "### Results & Completed Graph\n",
        "This should be the finished graph if you ran the code correctly. But sadly, it is incorrect. My model did not have enough data points to work properly. As you can see below, the graph is drastically different from the Linear regression Polynomial Prediction.\n",
        "\n",
        "![Graph](https://github.com/BrentanRath/Analyzing-HIV-With-Linear-Regression-and-Machine-Learning/blob/main/nn.png?raw=true)"
      ]
    },
    {
      "cell_type": "markdown",
      "metadata": {
        "id": "07915dc9"
      },
      "source": [
        "## Conclusion (Model Comparison and Analysis)\n",
        "\n",
        "\n",
        "For my conclusion, here is a comparison of the polynomial regression models and the neural network model in predicting HIV cases based on the provided data:\n",
        "\n",
        "### Polynomial Fits\n",
        "\n",
        "The 3rd and 4th-degree polynomial fits provide a smooth curve that generally follows the trend of the historical data. Linear regression is effective in finding the best-fitting polynomial for this dataset, which exhibits a somewhat curved relationship between year and population. The accuracy of these fits can be visually assessed by how closely the curves align with the original data points.\n",
        "\n",
        "### Neural Network\n",
        "\n",
        "The neural network, despite being trained on the same data, produced a significantly different fit and prediction compared to the polynomial models. As noted earlier, this is primarily due to the **limited amount of data** available for training the neural network. Neural networks typically require large datasets to learn complex patterns and generalize well to unseen data. With only 35 data points, the neural network was unable to learn a robust representation of the relationship between year and population, leading to the inaccurate fit and prediction observed in the graph.\n",
        "\n",
        "**In summary:**\n",
        "\n",
        "*   **Polynomial Regression:** Provides a reasonable fit to the limited data and a plausible prediction based on the observed trend.\n",
        "*   **Neural Network:** While a powerful tool for complex problems, its performance is severely hindered by the small dataset, resulting in an inaccurate model for this specific task.\n",
        "\n",
        "In the end, this dataset and the goal of predicting future HIV cases based on year, the polynomial regression models provide a more reliable and accurate prediction than the neural network due to the data limitations. And for witch model, it cannot be said as there is metric to judge the 3rd vs 4th Polynomial Fit.\n",
        "***\n",
        "### Signed - Brentan R. Rath\n",
        "##### [GitHub Repisotry (Give it a ⭐!)](https://github.com/BrentanRath/Analyzing-HIV-With-Linear-Regression-and-Machine-Learning/tree/main)\n",
        "##### [LinkedIn](https://www.linkedin.com/in/brentan-rath/)\n",
        "##### [Website (Coming Soon!)](#)"
      ]
    },
    {
      "cell_type": "markdown",
      "source": [
        "\n",
        "\n",
        "---\n",
        "\n",
        "\n",
        "\n",
        "---\n",
        "\n",
        "\n",
        "\n",
        "---\n",
        "\n",
        "\n",
        "# CODE BELOW\n",
        "### DON'T LOOK IF YOU DON'T KNOW WHAT YOU ARE DOING\n",
        "\n",
        "\n",
        "---\n",
        "\n",
        "\n",
        "\n",
        "---\n",
        "\n",
        "\n",
        "\n",
        "---\n",
        "\n"
      ],
      "metadata": {
        "id": "7dcwS01rD03n"
      }
    },
    {
      "cell_type": "code",
      "source": [
        "# @title Importing Libraries\n",
        "try:\n",
        "  import pandas as pd # Pandas (https://pandas.pydata.org/)\n",
        "  import numpy as np # NumPy (https://numpy.org/)\n",
        "  import matplotlib.pyplot as plt # Matplotlib( https://matplotlib.org/)\n",
        "  import ipywidgets as widgets # Ipywidgets (https://ipywidgets.readthedocs.io/en/stable/)\n",
        "  from IPython.display import display # IPPython (https://ipython.org/)\n",
        "  from google.colab import drive, output, userdata # Google Colab (https://colab.research.google.com/)\n",
        "  from tensorflow.keras.models import Sequential # TensorFlow (https://www.tensorflow.org/)\n",
        "  from tensorflow.keras.layers import Dense # TensorFlow (https://www.tensorflow.org/)\n",
        "  from sklearn.preprocessing import MinMaxScaler # scikit-learn (https://scikit-learn.org/stable/)\n",
        "  print(\"Successfully imported all libraries.\")\n",
        "except:\n",
        "  print(\"Failed to import all libraries.\")\n",
        "  raise Exception\n",
        "\n",
        "dataFileName = userdata.get('dataFileName')\n",
        "googleDrivePath=\"/content/drive/My Drive/\""
      ],
      "metadata": {
        "id": "fxG5PW0b4q5J",
        "colab": {
          "base_uri": "https://localhost:8080/"
        },
        "cellView": "form",
        "outputId": "2ffd6135-6ca6-42d8-d0e6-8af708ddd3c2"
      },
      "execution_count": 29,
      "outputs": [
        {
          "output_type": "stream",
          "name": "stdout",
          "text": [
            "Successfully imported all libraries.\n"
          ]
        }
      ]
    },
    {
      "cell_type": "code",
      "metadata": {
        "colab": {
          "base_uri": "https://localhost:8080/"
        },
        "id": "cdc28793",
        "outputId": "79b0d240-50fe-457f-f27c-233e7a827706",
        "cellView": "form"
      },
      "source": [
        "# @title Connecting to Google Drive\n",
        "try:\n",
        "  drive.mount('/content/drive', force_remount=False)\n",
        "  print(\"Successfully mounted drive (connect to Goole Drive).\")\n",
        "except:\n",
        "  print(\"Failed to mount the drive (connect to Goole Drive).\")\n",
        "  raise Exception"
      ],
      "execution_count": 17,
      "outputs": [
        {
          "output_type": "stream",
          "name": "stdout",
          "text": [
            "Drive already mounted at /content/drive; to attempt to forcibly remount, call drive.mount(\"/content/drive\", force_remount=True).\n",
            "Successfully mounted drive (connect to Goole Drive).\n"
          ]
        }
      ]
    },
    {
      "cell_type": "code",
      "source": [
        "# @title Loading Dataset\n",
        "try:\n",
        "  dataFrameData = pd.read_excel(f\"{googleDrivePath}{dataFileName}\")\n",
        "  print(\"Successfully loaded the spreadsheet/data.\")\n",
        "except FileNotFoundError:\n",
        "  print(f\"Error: The file {dataFileName} was not found in your Google Drive.\")\n",
        "  raise FileNotFoundError"
      ],
      "metadata": {
        "colab": {
          "base_uri": "https://localhost:8080/"
        },
        "id": "pufleMB85cT8",
        "outputId": "3586b09b-a8af-4f3e-edce-c19d1b5cc259",
        "cellView": "form"
      },
      "execution_count": 18,
      "outputs": [
        {
          "output_type": "stream",
          "name": "stdout",
          "text": [
            "Successfully loaded the spreadsheet/data.\n"
          ]
        }
      ]
    },
    {
      "cell_type": "code",
      "source": [
        "# @title Filtering Dataset\n",
        "try:\n",
        "  globalDataFrame = dataFrameData[dataFrameData.iloc[:, 2] == 'Global']\n",
        "  print(\"Successfully removed all rows but with (Global) in the second column.\")\n",
        "except:\n",
        "  print(\"Failed to remove all rows but with (Global) in the second column.\")\n",
        "  raise Exception\n",
        "\n",
        "try:\n",
        "  totalPopulationAndDateDataFrame = globalDataFrame.iloc[:, [0, 50]]\n",
        "  print(\"Successfully removed all data other then population and date.\")\n",
        "except:\n",
        "  print(\"Failed to remove all data other then population and date.\")\n",
        "  raise Exception\n",
        "\n",
        "try:\n",
        "  reIndexedDataFrame = totalPopulationAndDateDataFrame.reset_index(drop=True)\n",
        "  print(\"Succsessfully reset dataframe index.\")\n",
        "except:\n",
        "  print(\"Failed to reset dataframe index.\")\n",
        "  raise Exception\n",
        "\n",
        "try:\n",
        "  reIndexedDataFrame.columns = ['Year', 'Population']\n",
        "  print(\"Succsessfully changed column titles.\")\n",
        "except:\n",
        "  print(\"Failed to change the column titles.\")\n",
        "  raise Exception\n",
        "\n",
        "try:\n",
        "  finalDataFrame = reIndexedDataFrame\n",
        "  print(\"Succsessfully changed variable name for easier reading.\")\n",
        "except:\n",
        "  print(\"Failed to change variable name for easier reading.\")\n",
        "  raise Exception\n",
        "\n",
        "try:\n",
        "  if not pd.api.types.is_numeric_dtype(finalDataFrame['Year']):\n",
        "    finalDataFrame['Year'] = pd.to_numeric(finalDataFrame['Year'])\n",
        "  print(\"Succsessfully changed year rows to numeric.\")\n",
        "except:\n",
        "  print(\"Failed to change the year rows to numeric.\")\n",
        "  raise Exception\n",
        "\n",
        "try:\n",
        "  if not pd.api.types.is_numeric_dtype(finalDataFrame['Population']):\n",
        "    finalDataFrame['Population'] = finalDataFrame['Population'].astype(str).str.replace(' m', '', regex=False).astype(float)\n",
        "  print(\"Succsessfully changed population rows to float.\")\n",
        "except:\n",
        "  print(\"Failed to change population rows to float.\")\n",
        "  raise Exception"
      ],
      "metadata": {
        "id": "PcTywHdg-Tsv",
        "colab": {
          "base_uri": "https://localhost:8080/"
        },
        "outputId": "b213d54c-a489-4ac8-d33f-8d247553fd8c",
        "cellView": "form"
      },
      "execution_count": 19,
      "outputs": [
        {
          "output_type": "stream",
          "name": "stdout",
          "text": [
            "Successfully removed all rows but with (Global) in the second column.\n",
            "Successfully removed all data other then population and date.\n",
            "Succsessfully reset dataframe index.\n",
            "Succsessfully changed column titles.\n",
            "Succsessfully changed variable name for easier reading.\n",
            "Succsessfully changed year rows to numeric.\n",
            "Succsessfully changed population rows to float.\n"
          ]
        }
      ]
    },
    {
      "cell_type": "code",
      "metadata": {
        "id": "d72f3705",
        "colab": {
          "base_uri": "https://localhost:8080/"
        },
        "outputId": "aa1cf3c7-51d9-4eb5-ee79-c59219a09f5a",
        "cellView": "form"
      },
      "source": [
        "# @title Create Cofficients/Values (x,y)\n",
        "try:\n",
        "  x = finalDataFrame['Year'].values\n",
        "  print(\"Succsessfully set x values to years.\")\n",
        "except:\n",
        "  print(\"Failed to set x values to years.\")\n",
        "  raise Exception\n",
        "\n",
        "try:\n",
        "  y = finalDataFrame['Population'].values\n",
        "  print(\"Succsessfully set y values to population.\")\n",
        "except:\n",
        "  print(\"Failed to set y values to population.\")\n",
        "  raise Exception\n",
        "\n",
        "try:\n",
        "  coefficients = np.polyfit(x, y, 3)\n",
        "  print(\"Succsessfully set cofficients.\")\n",
        "except:\n",
        "  print(\"Failed to set cofficients.\")\n",
        "  raise Exception"
      ],
      "execution_count": 20,
      "outputs": [
        {
          "output_type": "stream",
          "name": "stdout",
          "text": [
            "Succsessfully set x values to years.\n",
            "Succsessfully set y values to population.\n",
            "Succsessfully set cofficients.\n"
          ]
        }
      ]
    },
    {
      "cell_type": "code",
      "metadata": {
        "id": "1f548ba1",
        "colab": {
          "base_uri": "https://localhost:8080/"
        },
        "outputId": "211b0e4e-2b22-42f7-b9cf-e087cf34c25e",
        "cellView": "form"
      },
      "source": [
        "# @title Create the Polynomial Functions and Calculate (x,y) curves\n",
        "try:\n",
        "  polynomial_function = np.poly1d(coefficients)\n",
        "  print(\"Succsessfully created polynomial function.\")\n",
        "except:\n",
        "  print(\"Failed to create polynomial function.\")\n",
        "  raise Exception\n",
        "\n",
        "try:\n",
        "  x_curve = np.linspace(finalDataFrame['Year'].min(), finalDataFrame['Year'].max(), 100)\n",
        "  print(\"Succsessfully created the x curve on the polynomial function.\")\n",
        "except:\n",
        "  print(\"Failed to create the x curve on the polynomial function.\")\n",
        "  raise Exception\n",
        "\n",
        "try:\n",
        "  y_curve = polynomial_function(x_curve)\n",
        "  print(\"Succsessfully created the y curve on the polynomial function.\")\n",
        "except:\n",
        "  print(\"Failed to create the y curve on the polynomial function.\")\n",
        "  raise Exception"
      ],
      "execution_count": 21,
      "outputs": [
        {
          "output_type": "stream",
          "name": "stdout",
          "text": [
            "Succsessfully created polynomial function.\n",
            "Succsessfully created the x curve on the polynomial function.\n",
            "Succsessfully created the y curve on the polynomial function.\n"
          ]
        }
      ]
    },
    {
      "cell_type": "code",
      "metadata": {
        "cellView": "form",
        "id": "374dee5c"
      },
      "source": [
        "# @title Calculating the Polynomial Fit's. Graphing Result.\n",
        "try:\n",
        "    coefficients_degree4 = np.polyfit(x, y, 4)\n",
        "    print(\"Successfully set coefficients for 4th degree polynomial.\")\n",
        "except:\n",
        "    print(\"Failed to set coefficients for 4th degree polynomial.\")\n",
        "    raise Exception\n",
        "\n",
        "try:\n",
        "    polynomial_function_degree4 = np.poly1d(coefficients_degree4)\n",
        "    print(\"Successfully created 4th degree polynomial function.\")\n",
        "except:\n",
        "    print(\"Failed to create 4th degree polynomial function.\")\n",
        "    raise Exception\n",
        "\n",
        "try:\n",
        "    y_curve_degree4 = polynomial_function_degree4(x_curve)\n",
        "    print(\"Successfully created the y curve on the 4th degree polynomial function.\")\n",
        "except:\n",
        "    print(\"Failed to create the y curve on the 4th degree polynomial function.\")\n",
        "    raise Exception\n",
        "\n",
        "try:\n",
        "    plt.figure(figsize=(10, 6))\n",
        "    plt.scatter(finalDataFrame['Year'], finalDataFrame['Population'], label='Original Data')\n",
        "    plt.plot(x_curve, y_curve, color='purple', label='3rd Degree Polynomial Fit')\n",
        "    plt.plot(x_curve, y_curve_degree4, color='green', label='4th Degree Polynomial Fit')\n",
        "    plt.xlabel('Year')\n",
        "    plt.ylabel('Cases (millions)')\n",
        "    plt.title('New Cases of HIV vs. Year with Different Polynomial Fits')\n",
        "    plt.legend()\n",
        "    plt.grid(True)\n",
        "    plt.show()\n",
        "    print(\"Successfully plotted data with both polynomial fits.\")\n",
        "except:\n",
        "    print(\"Failed to plot data with both polynomial fits.\")\n",
        "    raise Exception"
      ],
      "execution_count": null,
      "outputs": []
    },
    {
      "cell_type": "code",
      "metadata": {
        "colab": {
          "base_uri": "https://localhost:8080/",
          "height": 137,
          "referenced_widgets": [
            "5c9146772cc9402198c91bf4223d6e53",
            "c782df106be04c22a1a34cf611217add",
            "437c43834a044dc1b25c087ddee2428b",
            "021ce72e2ebc423b8c35c5de5521b66d",
            "352728c7189d44c190083ec605024d34",
            "470f5f3093794236be9266d79edd4b0b",
            "b2295ac260ea4f3d97ab4a5242012ecd",
            "96dc1a4902114bae9a8aef6d4f3a49de"
          ]
        },
        "id": "992a3b13",
        "outputId": "7ec15e9f-42e8-47d9-e7ff-6e58c7d8a47b",
        "cellView": "form"
      },
      "source": [
        "# @title Graph with Perdiction and Input Field\n",
        "def plot_with_prediction(year):\n",
        "    try:\n",
        "        predicted_population = polynomial_function(year)\n",
        "        print(f\"Successfully calculated predicted population for {year}.\")\n",
        "    except:\n",
        "        print(f\"Failed to calculate predicted population for {year}.\")\n",
        "        raise Exception\n",
        "\n",
        "    try:\n",
        "        plt.figure(figsize=(10, 6))\n",
        "        plt.scatter(finalDataFrame['Year'], finalDataFrame['Population'], label='Original Data')\n",
        "        plt.plot(x_curve, y_curve, color='purple', label='Polynomial Fit')\n",
        "\n",
        "        plt.scatter(year, predicted_population, color='red', label=f'Prediction for {year}', marker='X', s=100)\n",
        "\n",
        "        plt.xlabel('Year')\n",
        "        plt.ylabel('People (millions)')\n",
        "        plt.title(f'People with HIV vs. Year with {year} Prediction')\n",
        "        plt.legend()\n",
        "        plt.grid(True)\n",
        "        plt.show()\n",
        "        print(\"Successfully plotted the data with prediction.\")\n",
        "    except:\n",
        "        print(\"Failed to plot the data with prediction.\")\n",
        "        raise Exception\n",
        "\n",
        "    print(f\"Predicted population for {year}: {predicted_population:.2f} million\")\n",
        "\n",
        "try:\n",
        "    year_input = widgets.IntText(\n",
        "        value=2030,\n",
        "        description='Year:',\n",
        "        disabled=False\n",
        "    )\n",
        "    print(\"Successfully created year input widget.\")\n",
        "except:\n",
        "    print(\"Failed to create year input widget.\")\n",
        "    raise Exception\n",
        "\n",
        "try:\n",
        "    predict_button = widgets.Button(\n",
        "        description='Predict and Plot'\n",
        "    )\n",
        "    print(\"Successfully created predict button widget.\")\n",
        "except:\n",
        "    print(\"Failed to create predict button widget.\")\n",
        "    raise Exception\n",
        "\n",
        "try:\n",
        "    output_area = widgets.Output()\n",
        "    print(\"Successfully created output area widget.\")\n",
        "except:\n",
        "    print(\"Failed to create output area widget.\")\n",
        "    raise Exception\n",
        "\n",
        "def on_button_clicked(b):\n",
        "    with output_area:\n",
        "        output_area.clear_output()\n",
        "        try:\n",
        "            plot_with_prediction(year_input.value)\n",
        "            print(\"Successfully executed prediction and plotting.\")\n",
        "        except:\n",
        "            print(\"Failed to execute prediction and plotting.\")\n",
        "\n",
        "predict_button.on_click(on_button_clicked)\n",
        "\n",
        "display(year_input, predict_button, output_area)"
      ],
      "execution_count": 23,
      "outputs": [
        {
          "output_type": "stream",
          "name": "stdout",
          "text": [
            "Successfully created year input widget.\n",
            "Successfully created predict button widget.\n",
            "Successfully created output area widget.\n"
          ]
        },
        {
          "output_type": "display_data",
          "data": {
            "text/plain": [
              "IntText(value=2030, description='Year:')"
            ],
            "application/vnd.jupyter.widget-view+json": {
              "version_major": 2,
              "version_minor": 0,
              "model_id": "5c9146772cc9402198c91bf4223d6e53"
            }
          },
          "metadata": {}
        },
        {
          "output_type": "display_data",
          "data": {
            "text/plain": [
              "Button(description='Predict and Plot', style=ButtonStyle())"
            ],
            "application/vnd.jupyter.widget-view+json": {
              "version_major": 2,
              "version_minor": 0,
              "model_id": "021ce72e2ebc423b8c35c5de5521b66d"
            }
          },
          "metadata": {}
        },
        {
          "output_type": "display_data",
          "data": {
            "text/plain": [
              "Output()"
            ],
            "application/vnd.jupyter.widget-view+json": {
              "version_major": 2,
              "version_minor": 0,
              "model_id": "b2295ac260ea4f3d97ab4a5242012ecd"
            }
          },
          "metadata": {}
        }
      ]
    },
    {
      "cell_type": "code",
      "metadata": {
        "id": "7c27d08c",
        "colab": {
          "base_uri": "https://localhost:8080/"
        },
        "outputId": "4c7e8c38-5b01-41cc-f524-1018d8d23728",
        "cellView": "form"
      },
      "source": [
        "# @title Created and configured MinMaxScaler\n",
        "try:\n",
        "    scaler = MinMaxScaler()\n",
        "    print(\"Successfully initialized MinMaxScaler.\")\n",
        "except:\n",
        "    print(\"Failed to initialize MinMaxScaler.\")\n",
        "    raise Exception\n",
        "\n",
        "try:\n",
        "    scaled_years = scaler.fit_transform(finalDataFrame['Year'].values.reshape(-1, 1))\n",
        "    print(\"Successfully scaled years data.\")\n",
        "except:\n",
        "    print(\"Failed to scale years data.\")\n",
        "    raise Exception\n",
        "\n",
        "try:\n",
        "    scaled_population = scaler.fit_transform(finalDataFrame['Population'].values.reshape(-1, 1))\n",
        "    print(\"Successfully scaled population data.\")\n",
        "except:\n",
        "    print(\"Failed to scale population data.\")\n",
        "    raise Exception"
      ],
      "execution_count": 24,
      "outputs": [
        {
          "output_type": "stream",
          "name": "stdout",
          "text": [
            "Successfully initialized MinMaxScaler.\n",
            "Successfully scaled years data.\n",
            "Successfully scaled population data.\n"
          ]
        }
      ]
    },
    {
      "cell_type": "code",
      "metadata": {
        "colab": {
          "base_uri": "https://localhost:8080/",
          "height": 317
        },
        "id": "f44b3cde",
        "outputId": "f664365d-a9ea-4c23-fd82-9f4f4529873c",
        "cellView": "form"
      },
      "source": [
        "# @title Created Neural Network Model\n",
        "try:\n",
        "    model = Sequential()\n",
        "    model.add(Dense(units=64, activation='relu', input_shape=(1,)))\n",
        "    model.add(Dense(units=1))\n",
        "    print(\"Successfully created neural network model.\")\n",
        "except:\n",
        "    print(\"Failed to create neural network model.\")\n",
        "    raise Exception\n",
        "\n",
        "try:\n",
        "    model.compile(optimizer='adam', loss='mean_squared_error')\n",
        "    print(\"Successfully compiled neural network model.\")\n",
        "except:\n",
        "    print(\"Failed to compile neural network model.\")\n",
        "    raise Exception\n",
        "\n",
        "try:\n",
        "    model.summary()\n",
        "    print(\"Successfully displayed model summary.\")\n",
        "except:\n",
        "    print(\"Failed to display model summary.\")\n",
        "    raise Exception"
      ],
      "execution_count": 25,
      "outputs": [
        {
          "output_type": "stream",
          "name": "stdout",
          "text": [
            "Successfully created neural network model.\n",
            "Successfully compiled neural network model.\n"
          ]
        },
        {
          "output_type": "stream",
          "name": "stderr",
          "text": [
            "/usr/local/lib/python3.12/dist-packages/keras/src/layers/core/dense.py:93: UserWarning: Do not pass an `input_shape`/`input_dim` argument to a layer. When using Sequential models, prefer using an `Input(shape)` object as the first layer in the model instead.\n",
            "  super().__init__(activity_regularizer=activity_regularizer, **kwargs)\n"
          ]
        },
        {
          "output_type": "display_data",
          "data": {
            "text/plain": [
              "\u001b[1mModel: \"sequential_1\"\u001b[0m\n"
            ],
            "text/html": [
              "<pre style=\"white-space:pre;overflow-x:auto;line-height:normal;font-family:Menlo,'DejaVu Sans Mono',consolas,'Courier New',monospace\"><span style=\"font-weight: bold\">Model: \"sequential_1\"</span>\n",
              "</pre>\n"
            ]
          },
          "metadata": {}
        },
        {
          "output_type": "display_data",
          "data": {
            "text/plain": [
              "┏━━━━━━━━━━━━━━━━━━━━━━━━━━━━━━━━━┳━━━━━━━━━━━━━━━━━━━━━━━━┳━━━━━━━━━━━━━━━┓\n",
              "┃\u001b[1m \u001b[0m\u001b[1mLayer (type)                   \u001b[0m\u001b[1m \u001b[0m┃\u001b[1m \u001b[0m\u001b[1mOutput Shape          \u001b[0m\u001b[1m \u001b[0m┃\u001b[1m \u001b[0m\u001b[1m      Param #\u001b[0m\u001b[1m \u001b[0m┃\n",
              "┡━━━━━━━━━━━━━━━━━━━━━━━━━━━━━━━━━╇━━━━━━━━━━━━━━━━━━━━━━━━╇━━━━━━━━━━━━━━━┩\n",
              "│ dense_2 (\u001b[38;5;33mDense\u001b[0m)                 │ (\u001b[38;5;45mNone\u001b[0m, \u001b[38;5;34m64\u001b[0m)             │           \u001b[38;5;34m128\u001b[0m │\n",
              "├─────────────────────────────────┼────────────────────────┼───────────────┤\n",
              "│ dense_3 (\u001b[38;5;33mDense\u001b[0m)                 │ (\u001b[38;5;45mNone\u001b[0m, \u001b[38;5;34m1\u001b[0m)              │            \u001b[38;5;34m65\u001b[0m │\n",
              "└─────────────────────────────────┴────────────────────────┴───────────────┘\n"
            ],
            "text/html": [
              "<pre style=\"white-space:pre;overflow-x:auto;line-height:normal;font-family:Menlo,'DejaVu Sans Mono',consolas,'Courier New',monospace\">┏━━━━━━━━━━━━━━━━━━━━━━━━━━━━━━━━━┳━━━━━━━━━━━━━━━━━━━━━━━━┳━━━━━━━━━━━━━━━┓\n",
              "┃<span style=\"font-weight: bold\"> Layer (type)                    </span>┃<span style=\"font-weight: bold\"> Output Shape           </span>┃<span style=\"font-weight: bold\">       Param # </span>┃\n",
              "┡━━━━━━━━━━━━━━━━━━━━━━━━━━━━━━━━━╇━━━━━━━━━━━━━━━━━━━━━━━━╇━━━━━━━━━━━━━━━┩\n",
              "│ dense_2 (<span style=\"color: #0087ff; text-decoration-color: #0087ff\">Dense</span>)                 │ (<span style=\"color: #00d7ff; text-decoration-color: #00d7ff\">None</span>, <span style=\"color: #00af00; text-decoration-color: #00af00\">64</span>)             │           <span style=\"color: #00af00; text-decoration-color: #00af00\">128</span> │\n",
              "├─────────────────────────────────┼────────────────────────┼───────────────┤\n",
              "│ dense_3 (<span style=\"color: #0087ff; text-decoration-color: #0087ff\">Dense</span>)                 │ (<span style=\"color: #00d7ff; text-decoration-color: #00d7ff\">None</span>, <span style=\"color: #00af00; text-decoration-color: #00af00\">1</span>)              │            <span style=\"color: #00af00; text-decoration-color: #00af00\">65</span> │\n",
              "└─────────────────────────────────┴────────────────────────┴───────────────┘\n",
              "</pre>\n"
            ]
          },
          "metadata": {}
        },
        {
          "output_type": "display_data",
          "data": {
            "text/plain": [
              "\u001b[1m Total params: \u001b[0m\u001b[38;5;34m193\u001b[0m (772.00 B)\n"
            ],
            "text/html": [
              "<pre style=\"white-space:pre;overflow-x:auto;line-height:normal;font-family:Menlo,'DejaVu Sans Mono',consolas,'Courier New',monospace\"><span style=\"font-weight: bold\"> Total params: </span><span style=\"color: #00af00; text-decoration-color: #00af00\">193</span> (772.00 B)\n",
              "</pre>\n"
            ]
          },
          "metadata": {}
        },
        {
          "output_type": "display_data",
          "data": {
            "text/plain": [
              "\u001b[1m Trainable params: \u001b[0m\u001b[38;5;34m193\u001b[0m (772.00 B)\n"
            ],
            "text/html": [
              "<pre style=\"white-space:pre;overflow-x:auto;line-height:normal;font-family:Menlo,'DejaVu Sans Mono',consolas,'Courier New',monospace\"><span style=\"font-weight: bold\"> Trainable params: </span><span style=\"color: #00af00; text-decoration-color: #00af00\">193</span> (772.00 B)\n",
              "</pre>\n"
            ]
          },
          "metadata": {}
        },
        {
          "output_type": "display_data",
          "data": {
            "text/plain": [
              "\u001b[1m Non-trainable params: \u001b[0m\u001b[38;5;34m0\u001b[0m (0.00 B)\n"
            ],
            "text/html": [
              "<pre style=\"white-space:pre;overflow-x:auto;line-height:normal;font-family:Menlo,'DejaVu Sans Mono',consolas,'Courier New',monospace\"><span style=\"font-weight: bold\"> Non-trainable params: </span><span style=\"color: #00af00; text-decoration-color: #00af00\">0</span> (0.00 B)\n",
              "</pre>\n"
            ]
          },
          "metadata": {}
        },
        {
          "output_type": "stream",
          "name": "stdout",
          "text": [
            "Successfully displayed model summary.\n"
          ]
        }
      ]
    },
    {
      "cell_type": "code",
      "metadata": {
        "colab": {
          "base_uri": "https://localhost:8080/"
        },
        "collapsed": true,
        "id": "ebfa593c",
        "outputId": "abccc6e4-acb2-498f-dee8-1edcdd4ca5d8",
        "cellView": "form"
      },
      "source": [
        "# @title Trained Neural Network Model\n",
        "try:\n",
        "    history = model.fit(scaled_years, scaled_population, epochs=100, batch_size=32)\n",
        "    print(\"Successfully trained neural network model.\")\n",
        "except:\n",
        "    print(\"Failed to train neural network model.\")\n",
        "    raise Exception"
      ],
      "execution_count": 26,
      "outputs": [
        {
          "output_type": "stream",
          "name": "stdout",
          "text": [
            "Epoch 1/100\n",
            "\u001b[1m2/2\u001b[0m \u001b[32m━━━━━━━━━━━━━━━━━━━━\u001b[0m\u001b[37m\u001b[0m \u001b[1m1s\u001b[0m 35ms/step - loss: 0.3106\n",
            "Epoch 2/100\n",
            "\u001b[1m2/2\u001b[0m \u001b[32m━━━━━━━━━━━━━━━━━━━━\u001b[0m\u001b[37m\u001b[0m \u001b[1m0s\u001b[0m 41ms/step - loss: 0.3002 \n",
            "Epoch 3/100\n",
            "\u001b[1m2/2\u001b[0m \u001b[32m━━━━━━━━━━━━━━━━━━━━\u001b[0m\u001b[37m\u001b[0m \u001b[1m0s\u001b[0m 46ms/step - loss: 0.2857\n",
            "Epoch 4/100\n",
            "\u001b[1m2/2\u001b[0m \u001b[32m━━━━━━━━━━━━━━━━━━━━\u001b[0m\u001b[37m\u001b[0m \u001b[1m0s\u001b[0m 52ms/step - loss: 0.2697\n",
            "Epoch 5/100\n",
            "\u001b[1m2/2\u001b[0m \u001b[32m━━━━━━━━━━━━━━━━━━━━\u001b[0m\u001b[37m\u001b[0m \u001b[1m0s\u001b[0m 48ms/step - loss: 0.2532\n",
            "Epoch 6/100\n",
            "\u001b[1m2/2\u001b[0m \u001b[32m━━━━━━━━━━━━━━━━━━━━\u001b[0m\u001b[37m\u001b[0m \u001b[1m0s\u001b[0m 41ms/step - loss: 0.2576\n",
            "Epoch 7/100\n",
            "\u001b[1m2/2\u001b[0m \u001b[32m━━━━━━━━━━━━━━━━━━━━\u001b[0m\u001b[37m\u001b[0m \u001b[1m0s\u001b[0m 37ms/step - loss: 0.2302 \n",
            "Epoch 8/100\n",
            "\u001b[1m2/2\u001b[0m \u001b[32m━━━━━━━━━━━━━━━━━━━━\u001b[0m\u001b[37m\u001b[0m \u001b[1m0s\u001b[0m 44ms/step - loss: 0.2276\n",
            "Epoch 9/100\n",
            "\u001b[1m2/2\u001b[0m \u001b[32m━━━━━━━━━━━━━━━━━━━━\u001b[0m\u001b[37m\u001b[0m \u001b[1m0s\u001b[0m 44ms/step - loss: 0.2353 \n",
            "Epoch 10/100\n",
            "\u001b[1m2/2\u001b[0m \u001b[32m━━━━━━━━━━━━━━━━━━━━\u001b[0m\u001b[37m\u001b[0m \u001b[1m0s\u001b[0m 49ms/step - loss: 0.2317\n",
            "Epoch 11/100\n",
            "\u001b[1m2/2\u001b[0m \u001b[32m━━━━━━━━━━━━━━━━━━━━\u001b[0m\u001b[37m\u001b[0m \u001b[1m0s\u001b[0m 47ms/step - loss: 0.2214\n",
            "Epoch 12/100\n",
            "\u001b[1m2/2\u001b[0m \u001b[32m━━━━━━━━━━━━━━━━━━━━\u001b[0m\u001b[37m\u001b[0m \u001b[1m0s\u001b[0m 27ms/step - loss: 0.2190\n",
            "Epoch 13/100\n",
            "\u001b[1m2/2\u001b[0m \u001b[32m━━━━━━━━━━━━━━━━━━━━\u001b[0m\u001b[37m\u001b[0m \u001b[1m0s\u001b[0m 29ms/step - loss: 0.2149\n",
            "Epoch 14/100\n",
            "\u001b[1m2/2\u001b[0m \u001b[32m━━━━━━━━━━━━━━━━━━━━\u001b[0m\u001b[37m\u001b[0m \u001b[1m0s\u001b[0m 38ms/step - loss: 0.2112\n",
            "Epoch 15/100\n",
            "\u001b[1m2/2\u001b[0m \u001b[32m━━━━━━━━━━━━━━━━━━━━\u001b[0m\u001b[37m\u001b[0m \u001b[1m0s\u001b[0m 31ms/step - loss: 0.2049\n",
            "Epoch 16/100\n",
            "\u001b[1m2/2\u001b[0m \u001b[32m━━━━━━━━━━━━━━━━━━━━\u001b[0m\u001b[37m\u001b[0m \u001b[1m0s\u001b[0m 29ms/step - loss: 0.2078\n",
            "Epoch 17/100\n",
            "\u001b[1m2/2\u001b[0m \u001b[32m━━━━━━━━━━━━━━━━━━━━\u001b[0m\u001b[37m\u001b[0m \u001b[1m0s\u001b[0m 33ms/step - loss: 0.2028\n",
            "Epoch 18/100\n",
            "\u001b[1m2/2\u001b[0m \u001b[32m━━━━━━━━━━━━━━━━━━━━\u001b[0m\u001b[37m\u001b[0m \u001b[1m0s\u001b[0m 28ms/step - loss: 0.1993\n",
            "Epoch 19/100\n",
            "\u001b[1m2/2\u001b[0m \u001b[32m━━━━━━━━━━━━━━━━━━━━\u001b[0m\u001b[37m\u001b[0m \u001b[1m0s\u001b[0m 26ms/step - loss: 0.2016\n",
            "Epoch 20/100\n",
            "\u001b[1m2/2\u001b[0m \u001b[32m━━━━━━━━━━━━━━━━━━━━\u001b[0m\u001b[37m\u001b[0m \u001b[1m0s\u001b[0m 26ms/step - loss: 0.1966\n",
            "Epoch 21/100\n",
            "\u001b[1m2/2\u001b[0m \u001b[32m━━━━━━━━━━━━━━━━━━━━\u001b[0m\u001b[37m\u001b[0m \u001b[1m0s\u001b[0m 26ms/step - loss: 0.1951\n",
            "Epoch 22/100\n",
            "\u001b[1m2/2\u001b[0m \u001b[32m━━━━━━━━━━━━━━━━━━━━\u001b[0m\u001b[37m\u001b[0m \u001b[1m0s\u001b[0m 25ms/step - loss: 0.1966\n",
            "Epoch 23/100\n",
            "\u001b[1m2/2\u001b[0m \u001b[32m━━━━━━━━━━━━━━━━━━━━\u001b[0m\u001b[37m\u001b[0m \u001b[1m0s\u001b[0m 38ms/step - loss: 0.1899\n",
            "Epoch 24/100\n",
            "\u001b[1m2/2\u001b[0m \u001b[32m━━━━━━━━━━━━━━━━━━━━\u001b[0m\u001b[37m\u001b[0m \u001b[1m0s\u001b[0m 26ms/step - loss: 0.1852\n",
            "Epoch 25/100\n",
            "\u001b[1m2/2\u001b[0m \u001b[32m━━━━━━━━━━━━━━━━━━━━\u001b[0m\u001b[37m\u001b[0m \u001b[1m0s\u001b[0m 27ms/step - loss: 0.1916\n",
            "Epoch 26/100\n",
            "\u001b[1m2/2\u001b[0m \u001b[32m━━━━━━━━━━━━━━━━━━━━\u001b[0m\u001b[37m\u001b[0m \u001b[1m0s\u001b[0m 49ms/step - loss: 0.1776\n",
            "Epoch 27/100\n",
            "\u001b[1m2/2\u001b[0m \u001b[32m━━━━━━━━━━━━━━━━━━━━\u001b[0m\u001b[37m\u001b[0m \u001b[1m0s\u001b[0m 27ms/step - loss: 0.1853\n",
            "Epoch 28/100\n",
            "\u001b[1m2/2\u001b[0m \u001b[32m━━━━━━━━━━━━━━━━━━━━\u001b[0m\u001b[37m\u001b[0m \u001b[1m0s\u001b[0m 25ms/step - loss: 0.1794\n",
            "Epoch 29/100\n",
            "\u001b[1m2/2\u001b[0m \u001b[32m━━━━━━━━━━━━━━━━━━━━\u001b[0m\u001b[37m\u001b[0m \u001b[1m0s\u001b[0m 25ms/step - loss: 0.1809\n",
            "Epoch 30/100\n",
            "\u001b[1m2/2\u001b[0m \u001b[32m━━━━━━━━━━━━━━━━━━━━\u001b[0m\u001b[37m\u001b[0m \u001b[1m0s\u001b[0m 26ms/step - loss: 0.1777\n",
            "Epoch 31/100\n",
            "\u001b[1m2/2\u001b[0m \u001b[32m━━━━━━━━━━━━━━━━━━━━\u001b[0m\u001b[37m\u001b[0m \u001b[1m0s\u001b[0m 27ms/step - loss: 0.1800\n",
            "Epoch 32/100\n",
            "\u001b[1m2/2\u001b[0m \u001b[32m━━━━━━━━━━━━━━━━━━━━\u001b[0m\u001b[37m\u001b[0m \u001b[1m0s\u001b[0m 29ms/step - loss: 0.1768\n",
            "Epoch 33/100\n",
            "\u001b[1m2/2\u001b[0m \u001b[32m━━━━━━━━━━━━━━━━━━━━\u001b[0m\u001b[37m\u001b[0m \u001b[1m0s\u001b[0m 32ms/step - loss: 0.1705\n",
            "Epoch 34/100\n",
            "\u001b[1m2/2\u001b[0m \u001b[32m━━━━━━━━━━━━━━━━━━━━\u001b[0m\u001b[37m\u001b[0m \u001b[1m0s\u001b[0m 29ms/step - loss: 0.1650\n",
            "Epoch 35/100\n",
            "\u001b[1m2/2\u001b[0m \u001b[32m━━━━━━━━━━━━━━━━━━━━\u001b[0m\u001b[37m\u001b[0m \u001b[1m0s\u001b[0m 26ms/step - loss: 0.1701\n",
            "Epoch 36/100\n",
            "\u001b[1m2/2\u001b[0m \u001b[32m━━━━━━━━━━━━━━━━━━━━\u001b[0m\u001b[37m\u001b[0m \u001b[1m0s\u001b[0m 26ms/step - loss: 0.1676\n",
            "Epoch 37/100\n",
            "\u001b[1m2/2\u001b[0m \u001b[32m━━━━━━━━━━━━━━━━━━━━\u001b[0m\u001b[37m\u001b[0m \u001b[1m0s\u001b[0m 26ms/step - loss: 0.1683\n",
            "Epoch 38/100\n",
            "\u001b[1m2/2\u001b[0m \u001b[32m━━━━━━━━━━━━━━━━━━━━\u001b[0m\u001b[37m\u001b[0m \u001b[1m0s\u001b[0m 26ms/step - loss: 0.1667\n",
            "Epoch 39/100\n",
            "\u001b[1m2/2\u001b[0m \u001b[32m━━━━━━━━━━━━━━━━━━━━\u001b[0m\u001b[37m\u001b[0m \u001b[1m0s\u001b[0m 39ms/step - loss: 0.1604\n",
            "Epoch 40/100\n",
            "\u001b[1m2/2\u001b[0m \u001b[32m━━━━━━━━━━━━━━━━━━━━\u001b[0m\u001b[37m\u001b[0m \u001b[1m0s\u001b[0m 26ms/step - loss: 0.1582\n",
            "Epoch 41/100\n",
            "\u001b[1m2/2\u001b[0m \u001b[32m━━━━━━━━━━━━━━━━━━━━\u001b[0m\u001b[37m\u001b[0m \u001b[1m0s\u001b[0m 29ms/step - loss: 0.1596\n",
            "Epoch 42/100\n",
            "\u001b[1m2/2\u001b[0m \u001b[32m━━━━━━━━━━━━━━━━━━━━\u001b[0m\u001b[37m\u001b[0m \u001b[1m0s\u001b[0m 26ms/step - loss: 0.1558\n",
            "Epoch 43/100\n",
            "\u001b[1m2/2\u001b[0m \u001b[32m━━━━━━━━━━━━━━━━━━━━\u001b[0m\u001b[37m\u001b[0m \u001b[1m0s\u001b[0m 25ms/step - loss: 0.1535\n",
            "Epoch 44/100\n",
            "\u001b[1m2/2\u001b[0m \u001b[32m━━━━━━━━━━━━━━━━━━━━\u001b[0m\u001b[37m\u001b[0m \u001b[1m0s\u001b[0m 25ms/step - loss: 0.1544\n",
            "Epoch 45/100\n",
            "\u001b[1m2/2\u001b[0m \u001b[32m━━━━━━━━━━━━━━━━━━━━\u001b[0m\u001b[37m\u001b[0m \u001b[1m0s\u001b[0m 30ms/step - loss: 0.1534\n",
            "Epoch 46/100\n",
            "\u001b[1m2/2\u001b[0m \u001b[32m━━━━━━━━━━━━━━━━━━━━\u001b[0m\u001b[37m\u001b[0m \u001b[1m0s\u001b[0m 32ms/step - loss: 0.1490\n",
            "Epoch 47/100\n",
            "\u001b[1m2/2\u001b[0m \u001b[32m━━━━━━━━━━━━━━━━━━━━\u001b[0m\u001b[37m\u001b[0m \u001b[1m0s\u001b[0m 27ms/step - loss: 0.1454\n",
            "Epoch 48/100\n",
            "\u001b[1m2/2\u001b[0m \u001b[32m━━━━━━━━━━━━━━━━━━━━\u001b[0m\u001b[37m\u001b[0m \u001b[1m0s\u001b[0m 28ms/step - loss: 0.1439\n",
            "Epoch 49/100\n",
            "\u001b[1m2/2\u001b[0m \u001b[32m━━━━━━━━━━━━━━━━━━━━\u001b[0m\u001b[37m\u001b[0m \u001b[1m0s\u001b[0m 34ms/step - loss: 0.1412\n",
            "Epoch 50/100\n",
            "\u001b[1m2/2\u001b[0m \u001b[32m━━━━━━━━━━━━━━━━━━━━\u001b[0m\u001b[37m\u001b[0m \u001b[1m0s\u001b[0m 27ms/step - loss: 0.1436\n",
            "Epoch 51/100\n",
            "\u001b[1m2/2\u001b[0m \u001b[32m━━━━━━━━━━━━━━━━━━━━\u001b[0m\u001b[37m\u001b[0m \u001b[1m0s\u001b[0m 27ms/step - loss: 0.1410\n",
            "Epoch 52/100\n",
            "\u001b[1m2/2\u001b[0m \u001b[32m━━━━━━━━━━━━━━━━━━━━\u001b[0m\u001b[37m\u001b[0m \u001b[1m0s\u001b[0m 27ms/step - loss: 0.1382\n",
            "Epoch 53/100\n",
            "\u001b[1m2/2\u001b[0m \u001b[32m━━━━━━━━━━━━━━━━━━━━\u001b[0m\u001b[37m\u001b[0m \u001b[1m0s\u001b[0m 28ms/step - loss: 0.1376\n",
            "Epoch 54/100\n",
            "\u001b[1m2/2\u001b[0m \u001b[32m━━━━━━━━━━━━━━━━━━━━\u001b[0m\u001b[37m\u001b[0m \u001b[1m0s\u001b[0m 27ms/step - loss: 0.1319\n",
            "Epoch 55/100\n",
            "\u001b[1m2/2\u001b[0m \u001b[32m━━━━━━━━━━━━━━━━━━━━\u001b[0m\u001b[37m\u001b[0m \u001b[1m0s\u001b[0m 27ms/step - loss: 0.1289\n",
            "Epoch 56/100\n",
            "\u001b[1m2/2\u001b[0m \u001b[32m━━━━━━━━━━━━━━━━━━━━\u001b[0m\u001b[37m\u001b[0m \u001b[1m0s\u001b[0m 36ms/step - loss: 0.1270\n",
            "Epoch 57/100\n",
            "\u001b[1m2/2\u001b[0m \u001b[32m━━━━━━━━━━━━━━━━━━━━\u001b[0m\u001b[37m\u001b[0m \u001b[1m0s\u001b[0m 26ms/step - loss: 0.1266 \n",
            "Epoch 58/100\n",
            "\u001b[1m2/2\u001b[0m \u001b[32m━━━━━━━━━━━━━━━━━━━━\u001b[0m\u001b[37m\u001b[0m \u001b[1m0s\u001b[0m 26ms/step - loss: 0.1252\n",
            "Epoch 59/100\n",
            "\u001b[1m2/2\u001b[0m \u001b[32m━━━━━━━━━━━━━━━━━━━━\u001b[0m\u001b[37m\u001b[0m \u001b[1m0s\u001b[0m 27ms/step - loss: 0.1226\n",
            "Epoch 60/100\n",
            "\u001b[1m2/2\u001b[0m \u001b[32m━━━━━━━━━━━━━━━━━━━━\u001b[0m\u001b[37m\u001b[0m \u001b[1m0s\u001b[0m 29ms/step - loss: 0.1170\n",
            "Epoch 61/100\n",
            "\u001b[1m2/2\u001b[0m \u001b[32m━━━━━━━━━━━━━━━━━━━━\u001b[0m\u001b[37m\u001b[0m \u001b[1m0s\u001b[0m 29ms/step - loss: 0.1141\n",
            "Epoch 62/100\n",
            "\u001b[1m2/2\u001b[0m \u001b[32m━━━━━━━━━━━━━━━━━━━━\u001b[0m\u001b[37m\u001b[0m \u001b[1m0s\u001b[0m 27ms/step - loss: 0.1204\n",
            "Epoch 63/100\n",
            "\u001b[1m2/2\u001b[0m \u001b[32m━━━━━━━━━━━━━━━━━━━━\u001b[0m\u001b[37m\u001b[0m \u001b[1m0s\u001b[0m 27ms/step - loss: 0.1187\n",
            "Epoch 64/100\n",
            "\u001b[1m2/2\u001b[0m \u001b[32m━━━━━━━━━━━━━━━━━━━━\u001b[0m\u001b[37m\u001b[0m \u001b[1m0s\u001b[0m 29ms/step - loss: 0.1154\n",
            "Epoch 65/100\n",
            "\u001b[1m2/2\u001b[0m \u001b[32m━━━━━━━━━━━━━━━━━━━━\u001b[0m\u001b[37m\u001b[0m \u001b[1m0s\u001b[0m 27ms/step - loss: 0.1131\n",
            "Epoch 66/100\n",
            "\u001b[1m2/2\u001b[0m \u001b[32m━━━━━━━━━━━━━━━━━━━━\u001b[0m\u001b[37m\u001b[0m \u001b[1m0s\u001b[0m 29ms/step - loss: 0.1088\n",
            "Epoch 67/100\n",
            "\u001b[1m2/2\u001b[0m \u001b[32m━━━━━━━━━━━━━━━━━━━━\u001b[0m\u001b[37m\u001b[0m \u001b[1m0s\u001b[0m 25ms/step - loss: 0.1084\n",
            "Epoch 68/100\n",
            "\u001b[1m2/2\u001b[0m \u001b[32m━━━━━━━━━━━━━━━━━━━━\u001b[0m\u001b[37m\u001b[0m \u001b[1m0s\u001b[0m 28ms/step - loss: 0.1092\n",
            "Epoch 69/100\n",
            "\u001b[1m2/2\u001b[0m \u001b[32m━━━━━━━━━━━━━━━━━━━━\u001b[0m\u001b[37m\u001b[0m \u001b[1m0s\u001b[0m 26ms/step - loss: 0.1072\n",
            "Epoch 70/100\n",
            "\u001b[1m2/2\u001b[0m \u001b[32m━━━━━━━━━━━━━━━━━━━━\u001b[0m\u001b[37m\u001b[0m \u001b[1m0s\u001b[0m 26ms/step - loss: 0.1041\n",
            "Epoch 71/100\n",
            "\u001b[1m2/2\u001b[0m \u001b[32m━━━━━━━━━━━━━━━━━━━━\u001b[0m\u001b[37m\u001b[0m \u001b[1m0s\u001b[0m 27ms/step - loss: 0.1044\n",
            "Epoch 72/100\n",
            "\u001b[1m2/2\u001b[0m \u001b[32m━━━━━━━━━━━━━━━━━━━━\u001b[0m\u001b[37m\u001b[0m \u001b[1m0s\u001b[0m 28ms/step - loss: 0.1013\n",
            "Epoch 73/100\n",
            "\u001b[1m2/2\u001b[0m \u001b[32m━━━━━━━━━━━━━━━━━━━━\u001b[0m\u001b[37m\u001b[0m \u001b[1m0s\u001b[0m 37ms/step - loss: 0.0999\n",
            "Epoch 74/100\n",
            "\u001b[1m2/2\u001b[0m \u001b[32m━━━━━━━━━━━━━━━━━━━━\u001b[0m\u001b[37m\u001b[0m \u001b[1m0s\u001b[0m 28ms/step - loss: 0.0981\n",
            "Epoch 75/100\n",
            "\u001b[1m2/2\u001b[0m \u001b[32m━━━━━━━━━━━━━━━━━━━━\u001b[0m\u001b[37m\u001b[0m \u001b[1m0s\u001b[0m 31ms/step - loss: 0.0946\n",
            "Epoch 76/100\n",
            "\u001b[1m2/2\u001b[0m \u001b[32m━━━━━━━━━━━━━━━━━━━━\u001b[0m\u001b[37m\u001b[0m \u001b[1m0s\u001b[0m 28ms/step - loss: 0.0919\n",
            "Epoch 77/100\n",
            "\u001b[1m2/2\u001b[0m \u001b[32m━━━━━━━━━━━━━━━━━━━━\u001b[0m\u001b[37m\u001b[0m \u001b[1m0s\u001b[0m 33ms/step - loss: 0.0900\n",
            "Epoch 78/100\n",
            "\u001b[1m2/2\u001b[0m \u001b[32m━━━━━━━━━━━━━━━━━━━━\u001b[0m\u001b[37m\u001b[0m \u001b[1m0s\u001b[0m 28ms/step - loss: 0.0894\n",
            "Epoch 79/100\n",
            "\u001b[1m2/2\u001b[0m \u001b[32m━━━━━━━━━━━━━━━━━━━━\u001b[0m\u001b[37m\u001b[0m \u001b[1m0s\u001b[0m 31ms/step - loss: 0.0870\n",
            "Epoch 80/100\n",
            "\u001b[1m2/2\u001b[0m \u001b[32m━━━━━━━━━━━━━━━━━━━━\u001b[0m\u001b[37m\u001b[0m \u001b[1m0s\u001b[0m 29ms/step - loss: 0.0842\n",
            "Epoch 81/100\n",
            "\u001b[1m2/2\u001b[0m \u001b[32m━━━━━━━━━━━━━━━━━━━━\u001b[0m\u001b[37m\u001b[0m \u001b[1m0s\u001b[0m 30ms/step - loss: 0.0853\n",
            "Epoch 82/100\n",
            "\u001b[1m2/2\u001b[0m \u001b[32m━━━━━━━━━━━━━━━━━━━━\u001b[0m\u001b[37m\u001b[0m \u001b[1m0s\u001b[0m 27ms/step - loss: 0.0843\n",
            "Epoch 83/100\n",
            "\u001b[1m2/2\u001b[0m \u001b[32m━━━━━━━━━━━━━━━━━━━━\u001b[0m\u001b[37m\u001b[0m \u001b[1m0s\u001b[0m 29ms/step - loss: 0.0781\n",
            "Epoch 84/100\n",
            "\u001b[1m2/2\u001b[0m \u001b[32m━━━━━━━━━━━━━━━━━━━━\u001b[0m\u001b[37m\u001b[0m \u001b[1m0s\u001b[0m 26ms/step - loss: 0.0772\n",
            "Epoch 85/100\n",
            "\u001b[1m2/2\u001b[0m \u001b[32m━━━━━━━━━━━━━━━━━━━━\u001b[0m\u001b[37m\u001b[0m \u001b[1m0s\u001b[0m 24ms/step - loss: 0.0791\n",
            "Epoch 86/100\n",
            "\u001b[1m2/2\u001b[0m \u001b[32m━━━━━━━━━━━━━━━━━━━━\u001b[0m\u001b[37m\u001b[0m \u001b[1m0s\u001b[0m 27ms/step - loss: 0.0764\n",
            "Epoch 87/100\n",
            "\u001b[1m2/2\u001b[0m \u001b[32m━━━━━━━━━━━━━━━━━━━━\u001b[0m\u001b[37m\u001b[0m \u001b[1m0s\u001b[0m 26ms/step - loss: 0.0717\n",
            "Epoch 88/100\n",
            "\u001b[1m2/2\u001b[0m \u001b[32m━━━━━━━━━━━━━━━━━━━━\u001b[0m\u001b[37m\u001b[0m \u001b[1m0s\u001b[0m 28ms/step - loss: 0.0741\n",
            "Epoch 89/100\n",
            "\u001b[1m2/2\u001b[0m \u001b[32m━━━━━━━━━━━━━━━━━━━━\u001b[0m\u001b[37m\u001b[0m \u001b[1m0s\u001b[0m 31ms/step - loss: 0.0721\n",
            "Epoch 90/100\n",
            "\u001b[1m2/2\u001b[0m \u001b[32m━━━━━━━━━━━━━━━━━━━━\u001b[0m\u001b[37m\u001b[0m \u001b[1m0s\u001b[0m 31ms/step - loss: 0.0694\n",
            "Epoch 91/100\n",
            "\u001b[1m2/2\u001b[0m \u001b[32m━━━━━━━━━━━━━━━━━━━━\u001b[0m\u001b[37m\u001b[0m \u001b[1m0s\u001b[0m 25ms/step - loss: 0.0684\n",
            "Epoch 92/100\n",
            "\u001b[1m2/2\u001b[0m \u001b[32m━━━━━━━━━━━━━━━━━━━━\u001b[0m\u001b[37m\u001b[0m \u001b[1m0s\u001b[0m 28ms/step - loss: 0.0681\n",
            "Epoch 93/100\n",
            "\u001b[1m2/2\u001b[0m \u001b[32m━━━━━━━━━━━━━━━━━━━━\u001b[0m\u001b[37m\u001b[0m \u001b[1m0s\u001b[0m 29ms/step - loss: 0.0647\n",
            "Epoch 94/100\n",
            "\u001b[1m2/2\u001b[0m \u001b[32m━━━━━━━━━━━━━━━━━━━━\u001b[0m\u001b[37m\u001b[0m \u001b[1m0s\u001b[0m 34ms/step - loss: 0.0673\n",
            "Epoch 95/100\n",
            "\u001b[1m2/2\u001b[0m \u001b[32m━━━━━━━━━━━━━━━━━━━━\u001b[0m\u001b[37m\u001b[0m \u001b[1m0s\u001b[0m 29ms/step - loss: 0.0659\n",
            "Epoch 96/100\n",
            "\u001b[1m2/2\u001b[0m \u001b[32m━━━━━━━━━━━━━━━━━━━━\u001b[0m\u001b[37m\u001b[0m \u001b[1m0s\u001b[0m 30ms/step - loss: 0.0647\n",
            "Epoch 97/100\n",
            "\u001b[1m2/2\u001b[0m \u001b[32m━━━━━━━━━━━━━━━━━━━━\u001b[0m\u001b[37m\u001b[0m \u001b[1m0s\u001b[0m 29ms/step - loss: 0.0603\n",
            "Epoch 98/100\n",
            "\u001b[1m2/2\u001b[0m \u001b[32m━━━━━━━━━━━━━━━━━━━━\u001b[0m\u001b[37m\u001b[0m \u001b[1m0s\u001b[0m 29ms/step - loss: 0.0617\n",
            "Epoch 99/100\n",
            "\u001b[1m2/2\u001b[0m \u001b[32m━━━━━━━━━━━━━━━━━━━━\u001b[0m\u001b[37m\u001b[0m \u001b[1m0s\u001b[0m 26ms/step - loss: 0.0591\n",
            "Epoch 100/100\n",
            "\u001b[1m2/2\u001b[0m \u001b[32m━━━━━━━━━━━━━━━━━━━━\u001b[0m\u001b[37m\u001b[0m \u001b[1m0s\u001b[0m 31ms/step - loss: 0.0589\n",
            "Successfully trained neural network model.\n"
          ]
        }
      ]
    },
    {
      "cell_type": "code",
      "metadata": {
        "colab": {
          "base_uri": "https://localhost:8080/"
        },
        "id": "eb951275",
        "outputId": "b7e3295d-70ed-45fb-dff9-666ac4108b9f",
        "cellView": "form"
      },
      "source": [
        "# @title Calculate Perdictions with Neural Network\n",
        "try:\n",
        "    scaled_predictions = model.predict(scaled_years)\n",
        "    predictions = scaler.inverse_transform(scaled_predictions)\n",
        "    print(\"Successfully made predictions on scaled years and inverse transformed.\")\n",
        "except:\n",
        "    print(\"Failed to make predictions on scaled years and inverse transformed.\")\n",
        "    raise Exception\n",
        "\n",
        "try:\n",
        "    predicted_years = scaler.inverse_transform(scaled_years).flatten()\n",
        "    print(\"Successfully inverse transformed scaled years and flattened.\")\n",
        "except:\n",
        "    print(\"Failed to inverse transform scaled years and flatten.\")\n",
        "    raise Exception\n",
        "\n",
        "try:\n",
        "    year_input_scaled = scaler.transform(np.array([[year_input.value]]))\n",
        "    print(f\"Successfully scaled input year {year_input.value}.\")\n",
        "except:\n",
        "    print(f\"Failed to scale input year {year_input.value}.\")\n",
        "    raise Exception\n",
        "\n",
        "try:\n",
        "    scaled_predicted_future_population = model.predict(year_input_scaled)\n",
        "    print(f\"Successfully predicted scaled future population for {year_input.value}.\")\n",
        "except:\n",
        "    print(f\"Failed to predict scaled future population for {year_input.value}.\")\n",
        "    raise Exception\n",
        "\n",
        "try:\n",
        "    predicted_future_population = scaler.inverse_transform(scaled_predicted_future_population)[0][0]\n",
        "    print(f\"Successfully inverse transformed predicted future population for {year_input.value}.\")\n",
        "except:\n",
        "    print(f\"Failed to inverse transformed predicted future population for {year_input.value}.\")\n",
        "    raise Exception"
      ],
      "execution_count": 27,
      "outputs": [
        {
          "output_type": "stream",
          "name": "stdout",
          "text": [
            "\u001b[1m2/2\u001b[0m \u001b[32m━━━━━━━━━━━━━━━━━━━━\u001b[0m\u001b[37m\u001b[0m \u001b[1m0s\u001b[0m 44ms/step\n",
            "Successfully made predictions on scaled years and inverse transformed.\n",
            "Successfully inverse transformed scaled years and flattened.\n",
            "Successfully scaled input year 2030.\n",
            "\u001b[1m1/1\u001b[0m \u001b[32m━━━━━━━━━━━━━━━━━━━━\u001b[0m\u001b[37m\u001b[0m \u001b[1m0s\u001b[0m 40ms/step\n",
            "Successfully predicted scaled future population for 2030.\n",
            "Successfully inverse transformed predicted future population for 2030.\n"
          ]
        }
      ]
    },
    {
      "cell_type": "code",
      "metadata": {
        "colab": {
          "base_uri": "https://localhost:8080/",
          "height": 582
        },
        "id": "a12f42bf",
        "outputId": "db3eba6c-c615-4df6-815a-5a7a5c36878f",
        "cellView": "form"
      },
      "source": [
        "# @title Display Neural Network Calculation Results\n",
        "try:\n",
        "    plt.figure(figsize=(10, 6))\n",
        "    plt.scatter(finalDataFrame['Year'], finalDataFrame['Population'], label='Original Data')\n",
        "    plt.plot(x_curve, y_curve, color='purple', label='Polynomial Fit')\n",
        "    plt.plot(predicted_years, predictions, color='red', label='Neural Network Fit')\n",
        "    plt.scatter(year_input.value, predicted_future_population, color='red', label=f'Prediction for {year_input.value}', marker='X', s=100)\n",
        "    plt.xlabel('Year')\n",
        "    plt.ylabel('People (millions)')\n",
        "    plt.title(f'People with HIV vs. Year with Predictions (Predicted Population for {year_input.value}: {predicted_future_population:.2f} million)')\n",
        "    plt.legend()\n",
        "    plt.grid(True)\n",
        "    plt.show()\n",
        "    print(\"Successfully plotted data with both fits and prediction.\")\n",
        "except:\n",
        "    print(\"Failed to plot data with both fits and prediction.\")\n",
        "    raise Exception"
      ],
      "execution_count": 28,
      "outputs": [
        {
          "output_type": "display_data",
          "data": {
            "text/plain": [
              "<Figure size 1000x600 with 1 Axes>"
            ],
            "image/png": "[encoded data removed]"
          },
          "metadata": {}
        },
        {
          "output_type": "stream",
          "name": "stdout",
          "text": [
            "Successfully plotted data with both fits and prediction.\n"
          ]
        }
      ]
    },
    {
      "cell_type": "code",
      "source": [
        "#"
      ],
      "metadata": {
        "id": "aIRAVwLaBLXE"
      },
      "execution_count": null,
      "outputs": []
    }
  ]
}