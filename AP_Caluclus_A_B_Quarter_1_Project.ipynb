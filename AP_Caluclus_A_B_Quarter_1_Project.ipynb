{
  "nbformat": 4,
  "nbformat_minor": 0,
  "metadata": {
    "colab": {
      "provenance": [],
      "authorship_tag": "ABX9TyPFTSkOAOuIjz1+CK7tX3Ts",
      "include_colab_link": true
    },
    "kernelspec": {
      "name": "python3",
      "display_name": "Python 3"
    },
    "language_info": {
      "name": "python"
    },
    "widgets": {
      "application/vnd.jupyter.widget-state+json": {
        "b93c1fad67a842b999436b7ef31bbf97": {
          "model_module": "@jupyter-widgets/controls",
          "model_name": "IntTextModel",
          "model_module_version": "1.5.0",
          "state": {
            "_dom_classes": [],
            "_model_module": "@jupyter-widgets/controls",
            "_model_module_version": "1.5.0",
            "_model_name": "IntTextModel",
            "_view_count": null,
            "_view_module": "@jupyter-widgets/controls",
            "_view_module_version": "1.5.0",
            "_view_name": "IntTextView",
            "continuous_update": false,
            "description": "Year:",
            "description_tooltip": null,
            "disabled": false,
            "layout": "IPY_MODEL_9248f3a4e2ac417c9d30564361381911",
            "step": 1,
            "style": "IPY_MODEL_64afcc83f0214e038e37948039d1e337",
            "value": 2030
          }
        },
        "9248f3a4e2ac417c9d30564361381911": {
          "model_module": "@jupyter-widgets/base",
          "model_name": "LayoutModel",
          "model_module_version": "1.2.0",
          "state": {
            "_model_module": "@jupyter-widgets/base",
            "_model_module_version": "1.2.0",
            "_model_name": "LayoutModel",
            "_view_count": null,
            "_view_module": "@jupyter-widgets/base",
            "_view_module_version": "1.2.0",
            "_view_name": "LayoutView",
            "align_content": null,
            "align_items": null,
            "align_self": null,
            "border": null,
            "bottom": null,
            "display": null,
            "flex": null,
            "flex_flow": null,
            "grid_area": null,
            "grid_auto_columns": null,
            "grid_auto_flow": null,
            "grid_auto_rows": null,
            "grid_column": null,
            "grid_gap": null,
            "grid_row": null,
            "grid_template_areas": null,
            "grid_template_columns": null,
            "grid_template_rows": null,
            "height": null,
            "justify_content": null,
            "justify_items": null,
            "left": null,
            "margin": null,
            "max_height": null,
            "max_width": null,
            "min_height": null,
            "min_width": null,
            "object_fit": null,
            "object_position": null,
            "order": null,
            "overflow": null,
            "overflow_x": null,
            "overflow_y": null,
            "padding": null,
            "right": null,
            "top": null,
            "visibility": null,
            "width": null
          }
        },
        "64afcc83f0214e038e37948039d1e337": {
          "model_module": "@jupyter-widgets/controls",
          "model_name": "DescriptionStyleModel",
          "model_module_version": "1.5.0",
          "state": {
            "_model_module": "@jupyter-widgets/controls",
            "_model_module_version": "1.5.0",
            "_model_name": "DescriptionStyleModel",
            "_view_count": null,
            "_view_module": "@jupyter-widgets/base",
            "_view_module_version": "1.2.0",
            "_view_name": "StyleView",
            "description_width": ""
          }
        },
        "84910cb0bb6443779e0363c2bf66f78e": {
          "model_module": "@jupyter-widgets/controls",
          "model_name": "ButtonModel",
          "model_module_version": "1.5.0",
          "state": {
            "_dom_classes": [],
            "_model_module": "@jupyter-widgets/controls",
            "_model_module_version": "1.5.0",
            "_model_name": "ButtonModel",
            "_view_count": null,
            "_view_module": "@jupyter-widgets/controls",
            "_view_module_version": "1.5.0",
            "_view_name": "ButtonView",
            "button_style": "",
            "description": "Predict and Plot",
            "disabled": false,
            "icon": "",
            "layout": "IPY_MODEL_256916273d694c7eb9b14c9e64dfd086",
            "style": "IPY_MODEL_d0e5cc936f0d499bb18da5db24ed6510",
            "tooltip": ""
          }
        },
        "256916273d694c7eb9b14c9e64dfd086": {
          "model_module": "@jupyter-widgets/base",
          "model_name": "LayoutModel",
          "model_module_version": "1.2.0",
          "state": {
            "_model_module": "@jupyter-widgets/base",
            "_model_module_version": "1.2.0",
            "_model_name": "LayoutModel",
            "_view_count": null,
            "_view_module": "@jupyter-widgets/base",
            "_view_module_version": "1.2.0",
            "_view_name": "LayoutView",
            "align_content": null,
            "align_items": null,
            "align_self": null,
            "border": null,
            "bottom": null,
            "display": null,
            "flex": null,
            "flex_flow": null,
            "grid_area": null,
            "grid_auto_columns": null,
            "grid_auto_flow": null,
            "grid_auto_rows": null,
            "grid_column": null,
            "grid_gap": null,
            "grid_row": null,
            "grid_template_areas": null,
            "grid_template_columns": null,
            "grid_template_rows": null,
            "height": null,
            "justify_content": null,
            "justify_items": null,
            "left": null,
            "margin": null,
            "max_height": null,
            "max_width": null,
            "min_height": null,
            "min_width": null,
            "object_fit": null,
            "object_position": null,
            "order": null,
            "overflow": null,
            "overflow_x": null,
            "overflow_y": null,
            "padding": null,
            "right": null,
            "top": null,
            "visibility": null,
            "width": null
          }
        },
        "d0e5cc936f0d499bb18da5db24ed6510": {
          "model_module": "@jupyter-widgets/controls",
          "model_name": "ButtonStyleModel",
          "model_module_version": "1.5.0",
          "state": {
            "_model_module": "@jupyter-widgets/controls",
            "_model_module_version": "1.5.0",
            "_model_name": "ButtonStyleModel",
            "_view_count": null,
            "_view_module": "@jupyter-widgets/base",
            "_view_module_version": "1.2.0",
            "_view_name": "StyleView",
            "button_color": null,
            "font_weight": ""
          }
        },
        "b6dc4241dac749f2b2022bd5bc66dd83": {
          "model_module": "@jupyter-widgets/output",
          "model_name": "OutputModel",
          "model_module_version": "1.0.0",
          "state": {
            "_dom_classes": [],
            "_model_module": "@jupyter-widgets/output",
            "_model_module_version": "1.0.0",
            "_model_name": "OutputModel",
            "_view_count": null,
            "_view_module": "@jupyter-widgets/output",
            "_view_module_version": "1.0.0",
            "_view_name": "OutputView",
            "layout": "IPY_MODEL_7b95c00b07894f199743da82ee5cb582",
            "msg_id": "",
            "outputs": [
              {
                "output_type": "stream",
                "name": "stdout",
                "text": [
                  "Successfully calculated predicted population for 2030.\n"
                ]
              },
              {
                "output_type": "display_data",
                "data": {
                  "text/plain": "<Figure size 1000x600 with 1 Axes>",
                  "image/png": "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\n"
                },
                "metadata": {}
              },
              {
                "output_type": "stream",
                "name": "stdout",
                "text": [
                  "Successfully plotted the data with prediction.\n",
                  "Predicted population for 2030: 2.38 million\n",
                  "Successfully executed prediction and plotting.\n"
                ]
              }
            ]
          }
        },
        "7b95c00b07894f199743da82ee5cb582": {
          "model_module": "@jupyter-widgets/base",
          "model_name": "LayoutModel",
          "model_module_version": "1.2.0",
          "state": {
            "_model_module": "@jupyter-widgets/base",
            "_model_module_version": "1.2.0",
            "_model_name": "LayoutModel",
            "_view_count": null,
            "_view_module": "@jupyter-widgets/base",
            "_view_module_version": "1.2.0",
            "_view_name": "LayoutView",
            "align_content": null,
            "align_items": null,
            "align_self": null,
            "border": null,
            "bottom": null,
            "display": null,
            "flex": null,
            "flex_flow": null,
            "grid_area": null,
            "grid_auto_columns": null,
            "grid_auto_flow": null,
            "grid_auto_rows": null,
            "grid_column": null,
            "grid_gap": null,
            "grid_row": null,
            "grid_template_areas": null,
            "grid_template_columns": null,
            "grid_template_rows": null,
            "height": null,
            "justify_content": null,
            "justify_items": null,
            "left": null,
            "margin": null,
            "max_height": null,
            "max_width": null,
            "min_height": null,
            "min_width": null,
            "object_fit": null,
            "object_position": null,
            "order": null,
            "overflow": null,
            "overflow_x": null,
            "overflow_y": null,
            "padding": null,
            "right": null,
            "top": null,
            "visibility": null,
            "width": null
          }
        }
      }
    }
  },
  "cells": [
    {
      "cell_type": "markdown",
      "metadata": {
        "id": "view-in-github",
        "colab_type": "text"
      },
      "source": [
        "<a href=\"https://colab.research.google.com/github/BrentanRath/Analyzing-HIV-With-Linear-Regression-and-Machine-Learning/blob/main/AP_Caluclus_A_B_Quarter_1_Project.ipynb\" target=\"_parent\"><img src=\"https://colab.research.google.com/assets/colab-badge.svg\" alt=\"Open In Colab\"/></a>"
      ]
    },
    {
      "cell_type": "markdown",
      "source": [
        "# AP Caluclus A/B Quarter 1 Project\n",
        "*By Brentan R. Rath, Junior at Commonwealth Academy*\n",
        "\n",
        "\n",
        "---\n",
        "\n",
        "When I heard from my teacher that I could so research on a deisese, and work on using data to predict it, I was thrilled. So I took this chance to pratice my Data Science and Machine Learning skills.\n",
        "\n",
        "I chose HIV for my project as it might have a large impact on my life, and hurts may people, even a few that I know and would call a friend. As well as it does have a lot of data for it.\n",
        "\n",
        "Sadly, missing a lot of needed data, my Nueral Network was not able to actually make the predictions with the accuracy I wanted."
      ],
      "metadata": {
        "id": "yPwJqqS26JP4"
      }
    },
    {
      "cell_type": "markdown",
      "source": [
        "\n",
        "\n",
        "---\n",
        "\n",
        "\n",
        "Importing Packages Required for Project\n",
        "\n",
        "\n",
        "---\n",
        "\n"
      ],
      "metadata": {
        "id": "NFygat3008kJ"
      }
    },
    {
      "cell_type": "code",
      "source": [
        "import pandas as pd # Pandas (https://pandas.pydata.org/)\n",
        "import numpy as np # NumPy (https://numpy.org/)\n",
        "import matplotlib.pyplot as plt # Matplotlib( https://matplotlib.org/)\n",
        "import ipywidgets as widgets # Ipywidgets (https://ipywidgets.readthedocs.io/en/stable/)\n",
        "from IPython.display import display # IPPython (https://ipython.org/)\n",
        "from google.colab import drive, output, userdata # Google Colab (https://colab.research.google.com/)\n",
        "from tensorflow.keras.models import Sequential # TensorFlow (https://www.tensorflow.org/)\n",
        "from tensorflow.keras.layers import Dense # TensorFlow (https://www.tensorflow.org/)\n",
        "from sklearn.preprocessing import MinMaxScaler # scikit-learn (https://scikit-learn.org/stable/)\n",
        "\n",
        "# Get's the file name from the Google Drive, it is a Google Colab Secret so I can share this easily, and change it for everyone.\n",
        "dataFileName = userdata.get('dataFileName')\n",
        "googleDrivePath=\"/content/drive/My Drive/\""
      ],
      "metadata": {
        "id": "fxG5PW0b4q5J"
      },
      "execution_count": null,
      "outputs": []
    },
    {
      "cell_type": "code",
      "metadata": {
        "colab": {
          "base_uri": "https://localhost:8080/"
        },
        "id": "cdc28793",
        "outputId": "06df74b9-517f-4019-ddfa-16cb2e2b6b1f"
      },
      "source": [
        "try:\n",
        "  drive.mount('/content/drive', force_remount=False)\n",
        "  print(\"Successfully mounted drive (connect to Goole Drive).\")\n",
        "except:\n",
        "  print(\"Failed to mount the drive (connect to Goole Drive).\")\n",
        "  raise Exception"
      ],
      "execution_count": null,
      "outputs": [
        {
          "output_type": "stream",
          "name": "stdout",
          "text": [
            "Mounted at /content/drive\n",
            "Successfully mounted drive (connect to Goole Drive).\n"
          ]
        }
      ]
    },
    {
      "cell_type": "code",
      "source": [
        "try:\n",
        "  dataFrameData = pd.read_excel(f\"{googleDrivePath}{dataFileName}\")\n",
        "  print(\"Successfully loaded the spreadsheet/data.\")\n",
        "except FileNotFoundError:\n",
        "  print(f\"Error: The file {dataFileName} was not found in your Google Drive.\")\n",
        "  raise FileNotFoundError"
      ],
      "metadata": {
        "colab": {
          "base_uri": "https://localhost:8080/"
        },
        "id": "pufleMB85cT8",
        "outputId": "450e005a-6b7d-4abb-9aa2-cc51b8a6f745"
      },
      "execution_count": null,
      "outputs": [
        {
          "output_type": "stream",
          "name": "stdout",
          "text": [
            "Successfully loaded the spreadsheet/data.\n"
          ]
        }
      ]
    },
    {
      "cell_type": "code",
      "source": [
        "try:\n",
        "  globalDataFrame = dataFrameData[dataFrameData.iloc[:, 2] == 'Global']\n",
        "  print(\"Successfully removed all rows but with (Global) in the second column.\")\n",
        "except:\n",
        "  print(\"Failed to remove all rows but with (Global) in the second column.\")\n",
        "  raise Exception\n",
        "\n",
        "try:\n",
        "  totalPopulationAndDateDataFrame = globalDataFrame.iloc[:, [0, 50]]\n",
        "  print(\"Successfully removed all data other then population and date.\")\n",
        "except:\n",
        "  print(\"Failed to remove all data other then population and date.\")\n",
        "  raise Exception\n",
        "\n",
        "try:\n",
        "  reIndexedDataFrame = totalPopulationAndDateDataFrame.reset_index(drop=True)\n",
        "  print(\"Succsessfully reset dataframe index.\")\n",
        "except:\n",
        "  print(\"Failed to reset dataframe index.\")\n",
        "  raise Exception\n",
        "\n",
        "try:\n",
        "  reIndexedDataFrame.columns = ['Year', 'Population']\n",
        "  print(\"Succsessfully changed column titles.\")\n",
        "except:\n",
        "  print(\"Failed to change the column titles.\")\n",
        "  raise Exception\n",
        "\n",
        "try:\n",
        "  finalDataFrame = reIndexedDataFrame\n",
        "  print(\"Succsessfully changed variable name for easier reading.\")\n",
        "except:\n",
        "  print(\"Failed to change variable name for easier reading.\")\n",
        "  raise Exception\n",
        "\n",
        "try:\n",
        "  if not pd.api.types.is_numeric_dtype(finalDataFrame['Year']):\n",
        "    finalDataFrame['Year'] = pd.to_numeric(finalDataFrame['Year'])\n",
        "  print(\"Succsessfully changed year rows to numeric.\")\n",
        "except:\n",
        "  print(\"Failed to change the year rows to numeric.\")\n",
        "  raise Exception\n",
        "\n",
        "try:\n",
        "  if not pd.api.types.is_numeric_dtype(finalDataFrame['Population']):\n",
        "    finalDataFrame['Population'] = finalDataFrame['Population'].astype(str).str.replace(' m', '', regex=False).astype(float)\n",
        "  print(\"Succsessfully changed population rows to float.\")\n",
        "except:\n",
        "  print(\"Failed to change population rows to float.\")\n",
        "  raise Exception"
      ],
      "metadata": {
        "id": "PcTywHdg-Tsv",
        "colab": {
          "base_uri": "https://localhost:8080/"
        },
        "outputId": "7d5aa39d-eb99-42c0-fd8c-2aa405874dd3"
      },
      "execution_count": null,
      "outputs": [
        {
          "output_type": "stream",
          "name": "stdout",
          "text": [
            "Successfully removed all rows but with (Global) in the second column.\n",
            "Successfully removed all data other then population and date.\n",
            "Succsessfully reset dataframe index.\n",
            "Succsessfully changed column titles.\n",
            "Succsessfully changed variable name for easier reading.\n",
            "Succsessfully changed year rows to numeric.\n",
            "Succsessfully changed population rows to float.\n"
          ]
        }
      ]
    },
    {
      "cell_type": "code",
      "metadata": {
        "id": "d72f3705",
        "colab": {
          "base_uri": "https://localhost:8080/"
        },
        "outputId": "433ea36c-feff-414c-a358-802b2d26bf7a"
      },
      "source": [
        "try:\n",
        "  x = finalDataFrame['Year'].values\n",
        "  print(\"Succsessfully set x values to years.\")\n",
        "except:\n",
        "  print(\"Failed to set x values to years.\")\n",
        "  raise Exception\n",
        "\n",
        "try:\n",
        "  y = finalDataFrame['Population'].values\n",
        "  print(\"Succsessfully set y values to population.\")\n",
        "except:\n",
        "  print(\"Failed to set y values to population.\")\n",
        "  raise Exception\n",
        "\n",
        "try:\n",
        "  coefficients = np.polyfit(x, y, 3)\n",
        "  print(\"Succsessfully set cofficients.\")\n",
        "except:\n",
        "  print(\"Failed to set cofficients.\")\n",
        "  raise Exception"
      ],
      "execution_count": null,
      "outputs": [
        {
          "output_type": "stream",
          "name": "stdout",
          "text": [
            "Succsessfully set x values to years.\n",
            "Succsessfully set y values to population.\n",
            "Succsessfully set cofficients.\n"
          ]
        }
      ]
    },
    {
      "cell_type": "code",
      "metadata": {
        "id": "1f548ba1",
        "colab": {
          "base_uri": "https://localhost:8080/"
        },
        "outputId": "b773e91f-8e6f-4e3a-976c-b8762ba4e193"
      },
      "source": [
        "try:\n",
        "  polynomial_function = np.poly1d(coefficients)\n",
        "  print(\"Succsessfully created polynomial function.\")\n",
        "except:\n",
        "  print(\"Failed to create polynomial function.\")\n",
        "  raise Exception\n",
        "\n",
        "try:\n",
        "  x_curve = np.linspace(finalDataFrame['Year'].min(), finalDataFrame['Year'].max(), 100)\n",
        "  print(\"Succsessfully created the x curve on the polynomial function.\")\n",
        "except:\n",
        "  print(\"Failed to create the x curve on the polynomial function.\")\n",
        "  raise Exception\n",
        "\n",
        "try:\n",
        "  y_curve = polynomial_function(x_curve)\n",
        "  print(\"Succsessfully created the y curve on the polynomial function.\")\n",
        "except:\n",
        "  print(\"Failed to create the y curve on the polynomial function.\")\n",
        "  raise Exception"
      ],
      "execution_count": null,
      "outputs": [
        {
          "output_type": "stream",
          "name": "stdout",
          "text": [
            "Succsessfully created polynomial function.\n",
            "Succsessfully created the x curve on the polynomial function.\n",
            "Succsessfully created the y curve on the polynomial function.\n"
          ]
        }
      ]
    },
    {
      "cell_type": "code",
      "metadata": {
        "colab": {
          "base_uri": "https://localhost:8080/",
          "height": 564
        },
        "id": "5008133c",
        "outputId": "40febf1d-b8b1-4a10-bc90-da55f19345ce"
      },
      "source": [
        "plt.figure(figsize=(10, 6))\n",
        "plt.scatter(finalDataFrame['Year'], finalDataFrame['Population'], label='Original Data')\n",
        "plt.plot(x_curve, y_curve, color='purple', label='Polynomial Fit')\n",
        "plt.xlabel('Year')\n",
        "plt.ylabel('People (millions)')\n",
        "plt.title('People with HIV vs. Year')\n",
        "plt.legend()\n",
        "plt.grid(True)\n",
        "plt.show()"
      ],
      "execution_count": null,
      "outputs": [
        {
          "output_type": "display_data",
          "data": {
            "text/plain": [
              "<Figure size 1000x600 with 1 Axes>"
            ],
            "image/png": "[encoded data removed]"
          },
          "metadata": {}
        }
      ]
    },
    {
      "cell_type": "code",
      "metadata": {
        "colab": {
          "base_uri": "https://localhost:8080/",
          "height": 758,
          "referenced_widgets": [
            "b93c1fad67a842b999436b7ef31bbf97",
            "9248f3a4e2ac417c9d30564361381911",
            "64afcc83f0214e038e37948039d1e337",
            "84910cb0bb6443779e0363c2bf66f78e",
            "256916273d694c7eb9b14c9e64dfd086",
            "d0e5cc936f0d499bb18da5db24ed6510",
            "b6dc4241dac749f2b2022bd5bc66dd83",
            "7b95c00b07894f199743da82ee5cb582"
          ]
        },
        "id": "992a3b13",
        "outputId": "5ffcbacd-e5aa-47e5-8f67-ecfe53ba33b0"
      },
      "source": [
        "def plot_with_prediction(year):\n",
        "    try:\n",
        "        predicted_population = polynomial_function(year)\n",
        "        print(f\"Successfully calculated predicted population for {year}.\")\n",
        "    except:\n",
        "        print(f\"Failed to calculate predicted population for {year}.\")\n",
        "        raise Exception\n",
        "\n",
        "    try:\n",
        "        plt.figure(figsize=(10, 6))\n",
        "        plt.scatter(finalDataFrame['Year'], finalDataFrame['Population'], label='Original Data')\n",
        "        plt.plot(x_curve, y_curve, color='purple', label='Polynomial Fit')\n",
        "\n",
        "        plt.scatter(year, predicted_population, color='red', label=f'Prediction for {year}', marker='X', s=100)\n",
        "\n",
        "        plt.xlabel('Year')\n",
        "        plt.ylabel('People (millions)')\n",
        "        plt.title(f'People with HIV vs. Year with {year} Prediction')\n",
        "        plt.legend()\n",
        "        plt.grid(True)\n",
        "        plt.show()\n",
        "        print(\"Successfully plotted the data with prediction.\")\n",
        "    except:\n",
        "        print(\"Failed to plot the data with prediction.\")\n",
        "        raise Exception\n",
        "\n",
        "    print(f\"Predicted population for {year}: {predicted_population:.2f} million\")\n",
        "\n",
        "try:\n",
        "    year_input = widgets.IntText(\n",
        "        value=2030,\n",
        "        description='Year:',\n",
        "        disabled=False\n",
        "    )\n",
        "    print(\"Successfully created year input widget.\")\n",
        "except:\n",
        "    print(\"Failed to create year input widget.\")\n",
        "    raise Exception\n",
        "\n",
        "try:\n",
        "    predict_button = widgets.Button(\n",
        "        description='Predict and Plot'\n",
        "    )\n",
        "    print(\"Successfully created predict button widget.\")\n",
        "except:\n",
        "    print(\"Failed to create predict button widget.\")\n",
        "    raise Exception\n",
        "\n",
        "try:\n",
        "    output_area = widgets.Output()\n",
        "    print(\"Successfully created output area widget.\")\n",
        "except:\n",
        "    print(\"Failed to create output area widget.\")\n",
        "    raise Exception\n",
        "\n",
        "def on_button_clicked(b):\n",
        "    with output_area:\n",
        "        output_area.clear_output()\n",
        "        try:\n",
        "            plot_with_prediction(year_input.value)\n",
        "            print(\"Successfully executed prediction and plotting.\")\n",
        "        except:\n",
        "            print(\"Failed to execute prediction and plotting.\")\n",
        "\n",
        "predict_button.on_click(on_button_clicked)\n",
        "\n",
        "display(year_input, predict_button, output_area)"
      ],
      "execution_count": null,
      "outputs": [
        {
          "output_type": "stream",
          "name": "stdout",
          "text": [
            "Successfully created year input widget.\n",
            "Successfully created predict button widget.\n",
            "Successfully created output area widget.\n"
          ]
        },
        {
          "output_type": "display_data",
          "data": {
            "text/plain": [
              "IntText(value=2030, description='Year:')"
            ],
            "application/vnd.jupyter.widget-view+json": {
              "version_major": 2,
              "version_minor": 0,
              "model_id": "b93c1fad67a842b999436b7ef31bbf97"
            }
          },
          "metadata": {}
        },
        {
          "output_type": "display_data",
          "data": {
            "text/plain": [
              "Button(description='Predict and Plot', style=ButtonStyle())"
            ],
            "application/vnd.jupyter.widget-view+json": {
              "version_major": 2,
              "version_minor": 0,
              "model_id": "84910cb0bb6443779e0363c2bf66f78e"
            }
          },
          "metadata": {}
        },
        {
          "output_type": "display_data",
          "data": {
            "text/plain": [
              "Output()"
            ],
            "application/vnd.jupyter.widget-view+json": {
              "version_major": 2,
              "version_minor": 0,
              "model_id": "b6dc4241dac749f2b2022bd5bc66dd83"
            }
          },
          "metadata": {}
        }
      ]
    },
    {
      "cell_type": "markdown",
      "source": [
        "# TESTING NN SECTION"
      ],
      "metadata": {
        "id": "QPVAedKUoFHX"
      }
    },
    {
      "cell_type": "code",
      "metadata": {
        "id": "7c27d08c",
        "colab": {
          "base_uri": "https://localhost:8080/"
        },
        "outputId": "4576e64e-b04e-4f1a-d966-77fedd3658c7"
      },
      "source": [
        "try:\n",
        "    scaler = MinMaxScaler()\n",
        "    print(\"Successfully initialized MinMaxScaler.\")\n",
        "except:\n",
        "    print(\"Failed to initialize MinMaxScaler.\")\n",
        "    raise Exception\n",
        "\n",
        "try:\n",
        "    scaled_years = scaler.fit_transform(finalDataFrame['Year'].values.reshape(-1, 1))\n",
        "    print(\"Successfully scaled years data.\")\n",
        "except:\n",
        "    print(\"Failed to scale years data.\")\n",
        "    raise Exception\n",
        "\n",
        "try:\n",
        "    scaled_population = scaler.fit_transform(finalDataFrame['Population'].values.reshape(-1, 1))\n",
        "    print(\"Successfully scaled population data.\")\n",
        "except:\n",
        "    print(\"Failed to scale population data.\")\n",
        "    raise Exception"
      ],
      "execution_count": null,
      "outputs": [
        {
          "output_type": "stream",
          "name": "stdout",
          "text": [
            "Successfully initialized MinMaxScaler.\n",
            "Successfully scaled years data.\n",
            "Successfully scaled population data.\n"
          ]
        }
      ]
    },
    {
      "cell_type": "code",
      "metadata": {
        "colab": {
          "base_uri": "https://localhost:8080/",
          "height": 310
        },
        "id": "f44b3cde",
        "outputId": "434f4658-687a-4b08-8255-8bb29e54538b"
      },
      "source": [
        "try:\n",
        "    model = Sequential()\n",
        "    model.add(Dense(units=64, activation='relu', input_shape=(1,)))\n",
        "    model.add(Dense(units=1))\n",
        "    print(\"Successfully created neural network model.\")\n",
        "except:\n",
        "    print(\"Failed to create neural network model.\")\n",
        "    raise Exception\n",
        "\n",
        "try:\n",
        "    model.compile(optimizer='adam', loss='mean_squared_error')\n",
        "    print(\"Successfully compiled neural network model.\")\n",
        "except:\n",
        "    print(\"Failed to compile neural network model.\")\n",
        "    raise Exception\n",
        "\n",
        "try:\n",
        "    model.summary()\n",
        "    print(\"Successfully displayed model summary.\")\n",
        "except:\n",
        "    print(\"Failed to display model summary.\")\n",
        "    raise Exception"
      ],
      "execution_count": null,
      "outputs": [
        {
          "output_type": "stream",
          "name": "stdout",
          "text": [
            "Successfully created neural network model.\n",
            "Successfully compiled neural network model.\n"
          ]
        },
        {
          "output_type": "stream",
          "name": "stderr",
          "text": [
            "/usr/local/lib/python3.12/dist-packages/keras/src/layers/core/dense.py:93: UserWarning: Do not pass an `input_shape`/`input_dim` argument to a layer. When using Sequential models, prefer using an `Input(shape)` object as the first layer in the model instead.\n",
            "  super().__init__(activity_regularizer=activity_regularizer, **kwargs)\n"
          ]
        },
        {
          "output_type": "display_data",
          "data": {
            "text/plain": [
              "\u001b[1mModel: \"sequential_1\"\u001b[0m\n"
            ],
            "text/html": [
              "<pre style=\"white-space:pre;overflow-x:auto;line-height:normal;font-family:Menlo,'DejaVu Sans Mono',consolas,'Courier New',monospace\"><span style=\"font-weight: bold\">Model: \"sequential_1\"</span>\n",
              "</pre>\n"
            ]
          },
          "metadata": {}
        },
        {
          "output_type": "display_data",
          "data": {
            "text/plain": [
              "┏━━━━━━━━━━━━━━━━━━━━━━━━━━━━━━━━━┳━━━━━━━━━━━━━━━━━━━━━━━━┳━━━━━━━━━━━━━━━┓\n",
              "┃\u001b[1m \u001b[0m\u001b[1mLayer (type)                   \u001b[0m\u001b[1m \u001b[0m┃\u001b[1m \u001b[0m\u001b[1mOutput Shape          \u001b[0m\u001b[1m \u001b[0m┃\u001b[1m \u001b[0m\u001b[1m      Param #\u001b[0m\u001b[1m \u001b[0m┃\n",
              "┡━━━━━━━━━━━━━━━━━━━━━━━━━━━━━━━━━╇━━━━━━━━━━━━━━━━━━━━━━━━╇━━━━━━━━━━━━━━━┩\n",
              "│ dense_2 (\u001b[38;5;33mDense\u001b[0m)                 │ (\u001b[38;5;45mNone\u001b[0m, \u001b[38;5;34m64\u001b[0m)             │           \u001b[38;5;34m128\u001b[0m │\n",
              "├─────────────────────────────────┼────────────────────────┼───────────────┤\n",
              "│ dense_3 (\u001b[38;5;33mDense\u001b[0m)                 │ (\u001b[38;5;45mNone\u001b[0m, \u001b[38;5;34m1\u001b[0m)              │            \u001b[38;5;34m65\u001b[0m │\n",
              "└─────────────────────────────────┴────────────────────────┴───────────────┘\n"
            ],
            "text/html": [
              "<pre style=\"white-space:pre;overflow-x:auto;line-height:normal;font-family:Menlo,'DejaVu Sans Mono',consolas,'Courier New',monospace\">┏━━━━━━━━━━━━━━━━━━━━━━━━━━━━━━━━━┳━━━━━━━━━━━━━━━━━━━━━━━━┳━━━━━━━━━━━━━━━┓\n",
              "┃<span style=\"font-weight: bold\"> Layer (type)                    </span>┃<span style=\"font-weight: bold\"> Output Shape           </span>┃<span style=\"font-weight: bold\">       Param # </span>┃\n",
              "┡━━━━━━━━━━━━━━━━━━━━━━━━━━━━━━━━━╇━━━━━━━━━━━━━━━━━━━━━━━━╇━━━━━━━━━━━━━━━┩\n",
              "│ dense_2 (<span style=\"color: #0087ff; text-decoration-color: #0087ff\">Dense</span>)                 │ (<span style=\"color: #00d7ff; text-decoration-color: #00d7ff\">None</span>, <span style=\"color: #00af00; text-decoration-color: #00af00\">64</span>)             │           <span style=\"color: #00af00; text-decoration-color: #00af00\">128</span> │\n",
              "├─────────────────────────────────┼────────────────────────┼───────────────┤\n",
              "│ dense_3 (<span style=\"color: #0087ff; text-decoration-color: #0087ff\">Dense</span>)                 │ (<span style=\"color: #00d7ff; text-decoration-color: #00d7ff\">None</span>, <span style=\"color: #00af00; text-decoration-color: #00af00\">1</span>)              │            <span style=\"color: #00af00; text-decoration-color: #00af00\">65</span> │\n",
              "└─────────────────────────────────┴────────────────────────┴───────────────┘\n",
              "</pre>\n"
            ]
          },
          "metadata": {}
        },
        {
          "output_type": "display_data",
          "data": {
            "text/plain": [
              "\u001b[1m Total params: \u001b[0m\u001b[38;5;34m193\u001b[0m (772.00 B)\n"
            ],
            "text/html": [
              "<pre style=\"white-space:pre;overflow-x:auto;line-height:normal;font-family:Menlo,'DejaVu Sans Mono',consolas,'Courier New',monospace\"><span style=\"font-weight: bold\"> Total params: </span><span style=\"color: #00af00; text-decoration-color: #00af00\">193</span> (772.00 B)\n",
              "</pre>\n"
            ]
          },
          "metadata": {}
        },
        {
          "output_type": "display_data",
          "data": {
            "text/plain": [
              "\u001b[1m Trainable params: \u001b[0m\u001b[38;5;34m193\u001b[0m (772.00 B)\n"
            ],
            "text/html": [
              "<pre style=\"white-space:pre;overflow-x:auto;line-height:normal;font-family:Menlo,'DejaVu Sans Mono',consolas,'Courier New',monospace\"><span style=\"font-weight: bold\"> Trainable params: </span><span style=\"color: #00af00; text-decoration-color: #00af00\">193</span> (772.00 B)\n",
              "</pre>\n"
            ]
          },
          "metadata": {}
        },
        {
          "output_type": "display_data",
          "data": {
            "text/plain": [
              "\u001b[1m Non-trainable params: \u001b[0m\u001b[38;5;34m0\u001b[0m (0.00 B)\n"
            ],
            "text/html": [
              "<pre style=\"white-space:pre;overflow-x:auto;line-height:normal;font-family:Menlo,'DejaVu Sans Mono',consolas,'Courier New',monospace\"><span style=\"font-weight: bold\"> Non-trainable params: </span><span style=\"color: #00af00; text-decoration-color: #00af00\">0</span> (0.00 B)\n",
              "</pre>\n"
            ]
          },
          "metadata": {}
        },
        {
          "output_type": "stream",
          "name": "stdout",
          "text": [
            "Successfully displayed model summary.\n"
          ]
        }
      ]
    },
    {
      "cell_type": "code",
      "metadata": {
        "colab": {
          "base_uri": "https://localhost:8080/"
        },
        "collapsed": true,
        "id": "ebfa593c",
        "outputId": "edd90131-7c33-4203-eb7a-7ac2d800835a"
      },
      "source": [
        "try:\n",
        "    history = model.fit(scaled_years, scaled_population, epochs=100, batch_size=32)\n",
        "    print(\"Successfully trained neural network model.\")\n",
        "except:\n",
        "    print(\"Failed to train neural network model.\")\n",
        "    raise Exception"
      ],
      "execution_count": null,
      "outputs": [
        {
          "output_type": "stream",
          "name": "stdout",
          "text": [
            "Epoch 1/100\n",
            "\u001b[1m2/2\u001b[0m \u001b[32m━━━━━━━━━━━━━━━━━━━━\u001b[0m\u001b[37m\u001b[0m \u001b[1m1s\u001b[0m 35ms/step - loss: 0.2638\n",
            "Epoch 2/100\n",
            "\u001b[1m2/2\u001b[0m \u001b[32m━━━━━━━━━━━━━━━━━━━━\u001b[0m\u001b[37m\u001b[0m \u001b[1m0s\u001b[0m 25ms/step - loss: 0.2549\n",
            "Epoch 3/100\n",
            "\u001b[1m2/2\u001b[0m \u001b[32m━━━━━━━━━━━━━━━━━━━━\u001b[0m\u001b[37m\u001b[0m \u001b[1m0s\u001b[0m 23ms/step - loss: 0.2520\n",
            "Epoch 4/100\n",
            "\u001b[1m2/2\u001b[0m \u001b[32m━━━━━━━━━━━━━━━━━━━━\u001b[0m\u001b[37m\u001b[0m \u001b[1m0s\u001b[0m 21ms/step - loss: 0.2549\n",
            "Epoch 5/100\n",
            "\u001b[1m2/2\u001b[0m \u001b[32m━━━━━━━━━━━━━━━━━━━━\u001b[0m\u001b[37m\u001b[0m \u001b[1m0s\u001b[0m 21ms/step - loss: 0.2435\n",
            "Epoch 6/100\n",
            "\u001b[1m2/2\u001b[0m \u001b[32m━━━━━━━━━━━━━━━━━━━━\u001b[0m\u001b[37m\u001b[0m \u001b[1m0s\u001b[0m 23ms/step - loss: 0.2405\n",
            "Epoch 7/100\n",
            "\u001b[1m2/2\u001b[0m \u001b[32m━━━━━━━━━━━━━━━━━━━━\u001b[0m\u001b[37m\u001b[0m \u001b[1m0s\u001b[0m 23ms/step - loss: 0.2391\n",
            "Epoch 8/100\n",
            "\u001b[1m2/2\u001b[0m \u001b[32m━━━━━━━━━━━━━━━━━━━━\u001b[0m\u001b[37m\u001b[0m \u001b[1m0s\u001b[0m 22ms/step - loss: 0.2386\n",
            "Epoch 9/100\n",
            "\u001b[1m2/2\u001b[0m \u001b[32m━━━━━━━━━━━━━━━━━━━━\u001b[0m\u001b[37m\u001b[0m \u001b[1m0s\u001b[0m 23ms/step - loss: 0.2303\n",
            "Epoch 10/100\n",
            "\u001b[1m2/2\u001b[0m \u001b[32m━━━━━━━━━━━━━━━━━━━━\u001b[0m\u001b[37m\u001b[0m \u001b[1m0s\u001b[0m 23ms/step - loss: 0.2310\n",
            "Epoch 11/100\n",
            "\u001b[1m2/2\u001b[0m \u001b[32m━━━━━━━━━━━━━━━━━━━━\u001b[0m\u001b[37m\u001b[0m \u001b[1m0s\u001b[0m 23ms/step - loss: 0.2264\n",
            "Epoch 12/100\n",
            "\u001b[1m2/2\u001b[0m \u001b[32m━━━━━━━━━━━━━━━━━━━━\u001b[0m\u001b[37m\u001b[0m \u001b[1m0s\u001b[0m 22ms/step - loss: 0.2217\n",
            "Epoch 13/100\n",
            "\u001b[1m2/2\u001b[0m \u001b[32m━━━━━━━━━━━━━━━━━━━━\u001b[0m\u001b[37m\u001b[0m \u001b[1m0s\u001b[0m 22ms/step - loss: 0.2181\n",
            "Epoch 14/100\n",
            "\u001b[1m2/2\u001b[0m \u001b[32m━━━━━━━━━━━━━━━━━━━━\u001b[0m\u001b[37m\u001b[0m \u001b[1m0s\u001b[0m 22ms/step - loss: 0.2213\n",
            "Epoch 15/100\n",
            "\u001b[1m2/2\u001b[0m \u001b[32m━━━━━━━━━━━━━━━━━━━━\u001b[0m\u001b[37m\u001b[0m \u001b[1m0s\u001b[0m 22ms/step - loss: 0.2141\n",
            "Epoch 16/100\n",
            "\u001b[1m2/2\u001b[0m \u001b[32m━━━━━━━━━━━━━━━━━━━━\u001b[0m\u001b[37m\u001b[0m \u001b[1m0s\u001b[0m 22ms/step - loss: 0.2113\n",
            "Epoch 17/100\n",
            "\u001b[1m2/2\u001b[0m \u001b[32m━━━━━━━━━━━━━━━━━━━━\u001b[0m\u001b[37m\u001b[0m \u001b[1m0s\u001b[0m 22ms/step - loss: 0.2100\n",
            "Epoch 18/100\n",
            "\u001b[1m2/2\u001b[0m \u001b[32m━━━━━━━━━━━━━━━━━━━━\u001b[0m\u001b[37m\u001b[0m \u001b[1m0s\u001b[0m 24ms/step - loss: 0.2051\n",
            "Epoch 19/100\n",
            "\u001b[1m2/2\u001b[0m \u001b[32m━━━━━━━━━━━━━━━━━━━━\u001b[0m\u001b[37m\u001b[0m \u001b[1m0s\u001b[0m 22ms/step - loss: 0.1994\n",
            "Epoch 20/100\n",
            "\u001b[1m2/2\u001b[0m \u001b[32m━━━━━━━━━━━━━━━━━━━━\u001b[0m\u001b[37m\u001b[0m \u001b[1m0s\u001b[0m 22ms/step - loss: 0.1961\n",
            "Epoch 21/100\n",
            "\u001b[1m2/2\u001b[0m \u001b[32m━━━━━━━━━━━━━━━━━━━━\u001b[0m\u001b[37m\u001b[0m \u001b[1m0s\u001b[0m 22ms/step - loss: 0.1899\n",
            "Epoch 22/100\n",
            "\u001b[1m2/2\u001b[0m \u001b[32m━━━━━━━━━━━━━━━━━━━━\u001b[0m\u001b[37m\u001b[0m \u001b[1m0s\u001b[0m 26ms/step - loss: 0.1985\n",
            "Epoch 23/100\n",
            "\u001b[1m2/2\u001b[0m \u001b[32m━━━━━━━━━━━━━━━━━━━━\u001b[0m\u001b[37m\u001b[0m \u001b[1m0s\u001b[0m 22ms/step - loss: 0.1925\n",
            "Epoch 24/100\n",
            "\u001b[1m2/2\u001b[0m \u001b[32m━━━━━━━━━━━━━━━━━━━━\u001b[0m\u001b[37m\u001b[0m \u001b[1m0s\u001b[0m 22ms/step - loss: 0.1899\n",
            "Epoch 25/100\n",
            "\u001b[1m2/2\u001b[0m \u001b[32m━━━━━━━━━━━━━━━━━━━━\u001b[0m\u001b[37m\u001b[0m \u001b[1m0s\u001b[0m 22ms/step - loss: 0.1864\n",
            "Epoch 26/100\n",
            "\u001b[1m2/2\u001b[0m \u001b[32m━━━━━━━━━━━━━━━━━━━━\u001b[0m\u001b[37m\u001b[0m \u001b[1m0s\u001b[0m 22ms/step - loss: 0.1794\n",
            "Epoch 27/100\n",
            "\u001b[1m2/2\u001b[0m \u001b[32m━━━━━━━━━━━━━━━━━━━━\u001b[0m\u001b[37m\u001b[0m \u001b[1m0s\u001b[0m 22ms/step - loss: 0.1834\n",
            "Epoch 28/100\n",
            "\u001b[1m2/2\u001b[0m \u001b[32m━━━━━━━━━━━━━━━━━━━━\u001b[0m\u001b[37m\u001b[0m \u001b[1m0s\u001b[0m 22ms/step - loss: 0.1773\n",
            "Epoch 29/100\n",
            "\u001b[1m2/2\u001b[0m \u001b[32m━━━━━━━━━━━━━━━━━━━━\u001b[0m\u001b[37m\u001b[0m \u001b[1m0s\u001b[0m 23ms/step - loss: 0.1799\n",
            "Epoch 30/100\n",
            "\u001b[1m2/2\u001b[0m \u001b[32m━━━━━━━━━━━━━━━━━━━━\u001b[0m\u001b[37m\u001b[0m \u001b[1m0s\u001b[0m 22ms/step - loss: 0.1731\n",
            "Epoch 31/100\n",
            "\u001b[1m2/2\u001b[0m \u001b[32m━━━━━━━━━━━━━━━━━━━━\u001b[0m\u001b[37m\u001b[0m \u001b[1m0s\u001b[0m 28ms/step - loss: 0.1699\n",
            "Epoch 32/100\n",
            "\u001b[1m2/2\u001b[0m \u001b[32m━━━━━━━━━━━━━━━━━━━━\u001b[0m\u001b[37m\u001b[0m \u001b[1m0s\u001b[0m 22ms/step - loss: 0.1689\n",
            "Epoch 33/100\n",
            "\u001b[1m2/2\u001b[0m \u001b[32m━━━━━━━━━━━━━━━━━━━━\u001b[0m\u001b[37m\u001b[0m \u001b[1m0s\u001b[0m 22ms/step - loss: 0.1633\n",
            "Epoch 34/100\n",
            "\u001b[1m2/2\u001b[0m \u001b[32m━━━━━━━━━━━━━━━━━━━━\u001b[0m\u001b[37m\u001b[0m \u001b[1m0s\u001b[0m 22ms/step - loss: 0.1652\n",
            "Epoch 35/100\n",
            "\u001b[1m2/2\u001b[0m \u001b[32m━━━━━━━━━━━━━━━━━━━━\u001b[0m\u001b[37m\u001b[0m \u001b[1m0s\u001b[0m 23ms/step - loss: 0.1590\n",
            "Epoch 36/100\n",
            "\u001b[1m2/2\u001b[0m \u001b[32m━━━━━━━━━━━━━━━━━━━━\u001b[0m\u001b[37m\u001b[0m \u001b[1m0s\u001b[0m 24ms/step - loss: 0.1612\n",
            "Epoch 37/100\n",
            "\u001b[1m2/2\u001b[0m \u001b[32m━━━━━━━━━━━━━━━━━━━━\u001b[0m\u001b[37m\u001b[0m \u001b[1m0s\u001b[0m 24ms/step - loss: 0.1553\n",
            "Epoch 38/100\n",
            "\u001b[1m2/2\u001b[0m \u001b[32m━━━━━━━━━━━━━━━━━━━━\u001b[0m\u001b[37m\u001b[0m \u001b[1m0s\u001b[0m 26ms/step - loss: 0.1519\n",
            "Epoch 39/100\n",
            "\u001b[1m2/2\u001b[0m \u001b[32m━━━━━━━━━━━━━━━━━━━━\u001b[0m\u001b[37m\u001b[0m \u001b[1m0s\u001b[0m 22ms/step - loss: 0.1529\n",
            "Epoch 40/100\n",
            "\u001b[1m2/2\u001b[0m \u001b[32m━━━━━━━━━━━━━━━━━━━━\u001b[0m\u001b[37m\u001b[0m \u001b[1m0s\u001b[0m 22ms/step - loss: 0.1463\n",
            "Epoch 41/100\n",
            "\u001b[1m2/2\u001b[0m \u001b[32m━━━━━━━━━━━━━━━━━━━━\u001b[0m\u001b[37m\u001b[0m \u001b[1m0s\u001b[0m 22ms/step - loss: 0.1491\n",
            "Epoch 42/100\n",
            "\u001b[1m2/2\u001b[0m \u001b[32m━━━━━━━━━━━━━━━━━━━━\u001b[0m\u001b[37m\u001b[0m \u001b[1m0s\u001b[0m 22ms/step - loss: 0.1478\n",
            "Epoch 43/100\n",
            "\u001b[1m2/2\u001b[0m \u001b[32m━━━━━━━━━━━━━━━━━━━━\u001b[0m\u001b[37m\u001b[0m \u001b[1m0s\u001b[0m 22ms/step - loss: 0.1429\n",
            "Epoch 44/100\n",
            "\u001b[1m2/2\u001b[0m \u001b[32m━━━━━━━━━━━━━━━━━━━━\u001b[0m\u001b[37m\u001b[0m \u001b[1m0s\u001b[0m 22ms/step - loss: 0.1440\n",
            "Epoch 45/100\n",
            "\u001b[1m2/2\u001b[0m \u001b[32m━━━━━━━━━━━━━━━━━━━━\u001b[0m\u001b[37m\u001b[0m \u001b[1m0s\u001b[0m 22ms/step - loss: 0.1392\n",
            "Epoch 46/100\n",
            "\u001b[1m2/2\u001b[0m \u001b[32m━━━━━━━━━━━━━━━━━━━━\u001b[0m\u001b[37m\u001b[0m \u001b[1m0s\u001b[0m 22ms/step - loss: 0.1344\n",
            "Epoch 47/100\n",
            "\u001b[1m2/2\u001b[0m \u001b[32m━━━━━━━━━━━━━━━━━━━━\u001b[0m\u001b[37m\u001b[0m \u001b[1m0s\u001b[0m 23ms/step - loss: 0.1354\n",
            "Epoch 48/100\n",
            "\u001b[1m2/2\u001b[0m \u001b[32m━━━━━━━━━━━━━━━━━━━━\u001b[0m\u001b[37m\u001b[0m \u001b[1m0s\u001b[0m 22ms/step - loss: 0.1283\n",
            "Epoch 49/100\n",
            "\u001b[1m2/2\u001b[0m \u001b[32m━━━━━━━━━━━━━━━━━━━━\u001b[0m\u001b[37m\u001b[0m \u001b[1m0s\u001b[0m 26ms/step - loss: 0.1326\n",
            "Epoch 50/100\n",
            "\u001b[1m2/2\u001b[0m \u001b[32m━━━━━━━━━━━━━━━━━━━━\u001b[0m\u001b[37m\u001b[0m \u001b[1m0s\u001b[0m 21ms/step - loss: 0.1290\n",
            "Epoch 51/100\n",
            "\u001b[1m2/2\u001b[0m \u001b[32m━━━━━━━━━━━━━━━━━━━━\u001b[0m\u001b[37m\u001b[0m \u001b[1m0s\u001b[0m 22ms/step - loss: 0.1268\n",
            "Epoch 52/100\n",
            "\u001b[1m2/2\u001b[0m \u001b[32m━━━━━━━━━━━━━━━━━━━━\u001b[0m\u001b[37m\u001b[0m \u001b[1m0s\u001b[0m 36ms/step - loss: 0.1253\n",
            "Epoch 53/100\n",
            "\u001b[1m2/2\u001b[0m \u001b[32m━━━━━━━━━━━━━━━━━━━━\u001b[0m\u001b[37m\u001b[0m \u001b[1m0s\u001b[0m 23ms/step - loss: 0.1245\n",
            "Epoch 54/100\n",
            "\u001b[1m2/2\u001b[0m \u001b[32m━━━━━━━━━━━━━━━━━━━━\u001b[0m\u001b[37m\u001b[0m \u001b[1m0s\u001b[0m 24ms/step - loss: 0.1219\n",
            "Epoch 55/100\n",
            "\u001b[1m2/2\u001b[0m \u001b[32m━━━━━━━━━━━━━━━━━━━━\u001b[0m\u001b[37m\u001b[0m \u001b[1m0s\u001b[0m 23ms/step - loss: 0.1159\n",
            "Epoch 56/100\n",
            "\u001b[1m2/2\u001b[0m \u001b[32m━━━━━━━━━━━━━━━━━━━━\u001b[0m\u001b[37m\u001b[0m \u001b[1m0s\u001b[0m 23ms/step - loss: 0.1172\n",
            "Epoch 57/100\n",
            "\u001b[1m2/2\u001b[0m \u001b[32m━━━━━━━━━━━━━━━━━━━━\u001b[0m\u001b[37m\u001b[0m \u001b[1m0s\u001b[0m 22ms/step - loss: 0.1154\n",
            "Epoch 58/100\n",
            "\u001b[1m2/2\u001b[0m \u001b[32m━━━━━━━━━━━━━━━━━━━━\u001b[0m\u001b[37m\u001b[0m \u001b[1m0s\u001b[0m 23ms/step - loss: 0.1115\n",
            "Epoch 59/100\n",
            "\u001b[1m2/2\u001b[0m \u001b[32m━━━━━━━━━━━━━━━━━━━━\u001b[0m\u001b[37m\u001b[0m \u001b[1m0s\u001b[0m 22ms/step - loss: 0.1100\n",
            "Epoch 60/100\n",
            "\u001b[1m2/2\u001b[0m \u001b[32m━━━━━━━━━━━━━━━━━━━━\u001b[0m\u001b[37m\u001b[0m \u001b[1m0s\u001b[0m 22ms/step - loss: 0.1098\n",
            "Epoch 61/100\n",
            "\u001b[1m2/2\u001b[0m \u001b[32m━━━━━━━━━━━━━━━━━━━━\u001b[0m\u001b[37m\u001b[0m \u001b[1m0s\u001b[0m 22ms/step - loss: 0.1066\n",
            "Epoch 62/100\n",
            "\u001b[1m2/2\u001b[0m \u001b[32m━━━━━━━━━━━━━━━━━━━━\u001b[0m\u001b[37m\u001b[0m \u001b[1m0s\u001b[0m 22ms/step - loss: 0.1044\n",
            "Epoch 63/100\n",
            "\u001b[1m2/2\u001b[0m \u001b[32m━━━━━━━━━━━━━━━━━━━━\u001b[0m\u001b[37m\u001b[0m \u001b[1m0s\u001b[0m 23ms/step - loss: 0.1062\n",
            "Epoch 64/100\n",
            "\u001b[1m2/2\u001b[0m \u001b[32m━━━━━━━━━━━━━━━━━━━━\u001b[0m\u001b[37m\u001b[0m \u001b[1m0s\u001b[0m 22ms/step - loss: 0.1009\n",
            "Epoch 65/100\n",
            "\u001b[1m2/2\u001b[0m \u001b[32m━━━━━━━━━━━━━━━━━━━━\u001b[0m\u001b[37m\u001b[0m \u001b[1m0s\u001b[0m 23ms/step - loss: 0.1017\n",
            "Epoch 66/100\n",
            "\u001b[1m2/2\u001b[0m \u001b[32m━━━━━━━━━━━━━━━━━━━━\u001b[0m\u001b[37m\u001b[0m \u001b[1m0s\u001b[0m 22ms/step - loss: 0.0973\n",
            "Epoch 67/100\n",
            "\u001b[1m2/2\u001b[0m \u001b[32m━━━━━━━━━━━━━━━━━━━━\u001b[0m\u001b[37m\u001b[0m \u001b[1m0s\u001b[0m 23ms/step - loss: 0.0987\n",
            "Epoch 68/100\n",
            "\u001b[1m2/2\u001b[0m \u001b[32m━━━━━━━━━━━━━━━━━━━━\u001b[0m\u001b[37m\u001b[0m \u001b[1m0s\u001b[0m 22ms/step - loss: 0.0936\n",
            "Epoch 69/100\n",
            "\u001b[1m2/2\u001b[0m \u001b[32m━━━━━━━━━━━━━━━━━━━━\u001b[0m\u001b[37m\u001b[0m \u001b[1m0s\u001b[0m 22ms/step - loss: 0.0906\n",
            "Epoch 70/100\n",
            "\u001b[1m2/2\u001b[0m \u001b[32m━━━━━━━━━━━━━━━━━━━━\u001b[0m\u001b[37m\u001b[0m \u001b[1m0s\u001b[0m 23ms/step - loss: 0.0895\n",
            "Epoch 71/100\n",
            "\u001b[1m2/2\u001b[0m \u001b[32m━━━━━━━━━━━━━━━━━━━━\u001b[0m\u001b[37m\u001b[0m \u001b[1m0s\u001b[0m 22ms/step - loss: 0.0895\n",
            "Epoch 72/100\n",
            "\u001b[1m2/2\u001b[0m \u001b[32m━━━━━━━━━━━━━━━━━━━━\u001b[0m\u001b[37m\u001b[0m \u001b[1m0s\u001b[0m 22ms/step - loss: 0.0869\n",
            "Epoch 73/100\n",
            "\u001b[1m2/2\u001b[0m \u001b[32m━━━━━━━━━━━━━━━━━━━━\u001b[0m\u001b[37m\u001b[0m \u001b[1m0s\u001b[0m 32ms/step - loss: 0.0871\n",
            "Epoch 74/100\n",
            "\u001b[1m2/2\u001b[0m \u001b[32m━━━━━━━━━━━━━━━━━━━━\u001b[0m\u001b[37m\u001b[0m \u001b[1m0s\u001b[0m 22ms/step - loss: 0.0833\n",
            "Epoch 75/100\n",
            "\u001b[1m2/2\u001b[0m \u001b[32m━━━━━━━━━━━━━━━━━━━━\u001b[0m\u001b[37m\u001b[0m \u001b[1m0s\u001b[0m 21ms/step - loss: 0.0801\n",
            "Epoch 76/100\n",
            "\u001b[1m2/2\u001b[0m \u001b[32m━━━━━━━━━━━━━━━━━━━━\u001b[0m\u001b[37m\u001b[0m \u001b[1m0s\u001b[0m 25ms/step - loss: 0.0819\n",
            "Epoch 77/100\n",
            "\u001b[1m2/2\u001b[0m \u001b[32m━━━━━━━━━━━━━━━━━━━━\u001b[0m\u001b[37m\u001b[0m \u001b[1m0s\u001b[0m 24ms/step - loss: 0.0771\n",
            "Epoch 78/100\n",
            "\u001b[1m2/2\u001b[0m \u001b[32m━━━━━━━━━━━━━━━━━━━━\u001b[0m\u001b[37m\u001b[0m \u001b[1m0s\u001b[0m 22ms/step - loss: 0.0788\n",
            "Epoch 79/100\n",
            "\u001b[1m2/2\u001b[0m \u001b[32m━━━━━━━━━━━━━━━━━━━━\u001b[0m\u001b[37m\u001b[0m \u001b[1m0s\u001b[0m 23ms/step - loss: 0.0766\n",
            "Epoch 80/100\n",
            "\u001b[1m2/2\u001b[0m \u001b[32m━━━━━━━━━━━━━━━━━━━━\u001b[0m\u001b[37m\u001b[0m \u001b[1m0s\u001b[0m 23ms/step - loss: 0.0747\n",
            "Epoch 81/100\n",
            "\u001b[1m2/2\u001b[0m \u001b[32m━━━━━━━━━━━━━━━━━━━━\u001b[0m\u001b[37m\u001b[0m \u001b[1m0s\u001b[0m 23ms/step - loss: 0.0723\n",
            "Epoch 82/100\n",
            "\u001b[1m2/2\u001b[0m \u001b[32m━━━━━━━━━━━━━━━━━━━━\u001b[0m\u001b[37m\u001b[0m \u001b[1m0s\u001b[0m 23ms/step - loss: 0.0694\n",
            "Epoch 83/100\n",
            "\u001b[1m2/2\u001b[0m \u001b[32m━━━━━━━━━━━━━━━━━━━━\u001b[0m\u001b[37m\u001b[0m \u001b[1m0s\u001b[0m 25ms/step - loss: 0.0684\n",
            "Epoch 84/100\n",
            "\u001b[1m2/2\u001b[0m \u001b[32m━━━━━━━━━━━━━━━━━━━━\u001b[0m\u001b[37m\u001b[0m \u001b[1m0s\u001b[0m 23ms/step - loss: 0.0659\n",
            "Epoch 85/100\n",
            "\u001b[1m2/2\u001b[0m \u001b[32m━━━━━━━━━━━━━━━━━━━━\u001b[0m\u001b[37m\u001b[0m \u001b[1m0s\u001b[0m 23ms/step - loss: 0.0651\n",
            "Epoch 86/100\n",
            "\u001b[1m2/2\u001b[0m \u001b[32m━━━━━━━━━━━━━━━━━━━━\u001b[0m\u001b[37m\u001b[0m \u001b[1m0s\u001b[0m 22ms/step - loss: 0.0640\n",
            "Epoch 87/100\n",
            "\u001b[1m2/2\u001b[0m \u001b[32m━━━━━━━━━━━━━━━━━━━━\u001b[0m\u001b[37m\u001b[0m \u001b[1m0s\u001b[0m 22ms/step - loss: 0.0609\n",
            "Epoch 88/100\n",
            "\u001b[1m2/2\u001b[0m \u001b[32m━━━━━━━━━━━━━━━━━━━━\u001b[0m\u001b[37m\u001b[0m \u001b[1m0s\u001b[0m 23ms/step - loss: 0.0597\n",
            "Epoch 89/100\n",
            "\u001b[1m2/2\u001b[0m \u001b[32m━━━━━━━━━━━━━━━━━━━━\u001b[0m\u001b[37m\u001b[0m \u001b[1m0s\u001b[0m 23ms/step - loss: 0.0581\n",
            "Epoch 90/100\n",
            "\u001b[1m2/2\u001b[0m \u001b[32m━━━━━━━━━━━━━━━━━━━━\u001b[0m\u001b[37m\u001b[0m \u001b[1m0s\u001b[0m 23ms/step - loss: 0.0579\n",
            "Epoch 91/100\n",
            "\u001b[1m2/2\u001b[0m \u001b[32m━━━━━━━━━━━━━━━━━━━━\u001b[0m\u001b[37m\u001b[0m \u001b[1m0s\u001b[0m 22ms/step - loss: 0.0548\n",
            "Epoch 92/100\n",
            "\u001b[1m2/2\u001b[0m \u001b[32m━━━━━━━━━━━━━━━━━━━━\u001b[0m\u001b[37m\u001b[0m \u001b[1m0s\u001b[0m 23ms/step - loss: 0.0535\n",
            "Epoch 93/100\n",
            "\u001b[1m2/2\u001b[0m \u001b[32m━━━━━━━━━━━━━━━━━━━━\u001b[0m\u001b[37m\u001b[0m \u001b[1m0s\u001b[0m 22ms/step - loss: 0.0537\n",
            "Epoch 94/100\n",
            "\u001b[1m2/2\u001b[0m \u001b[32m━━━━━━━━━━━━━━━━━━━━\u001b[0m\u001b[37m\u001b[0m \u001b[1m0s\u001b[0m 24ms/step - loss: 0.0505\n",
            "Epoch 95/100\n",
            "\u001b[1m2/2\u001b[0m \u001b[32m━━━━━━━━━━━━━━━━━━━━\u001b[0m\u001b[37m\u001b[0m \u001b[1m0s\u001b[0m 23ms/step - loss: 0.0472\n",
            "Epoch 96/100\n",
            "\u001b[1m2/2\u001b[0m \u001b[32m━━━━━━━━━━━━━━━━━━━━\u001b[0m\u001b[37m\u001b[0m \u001b[1m0s\u001b[0m 22ms/step - loss: 0.0489\n",
            "Epoch 97/100\n",
            "\u001b[1m2/2\u001b[0m \u001b[32m━━━━━━━━━━━━━━━━━━━━\u001b[0m\u001b[37m\u001b[0m \u001b[1m0s\u001b[0m 25ms/step - loss: 0.0471\n",
            "Epoch 98/100\n",
            "\u001b[1m2/2\u001b[0m \u001b[32m━━━━━━━━━━━━━━━━━━━━\u001b[0m\u001b[37m\u001b[0m \u001b[1m0s\u001b[0m 24ms/step - loss: 0.0456\n",
            "Epoch 99/100\n",
            "\u001b[1m2/2\u001b[0m \u001b[32m━━━━━━━━━━━━━━━━━━━━\u001b[0m\u001b[37m\u001b[0m \u001b[1m0s\u001b[0m 23ms/step - loss: 0.0454\n",
            "Epoch 100/100\n",
            "\u001b[1m2/2\u001b[0m \u001b[32m━━━━━━━━━━━━━━━━━━━━\u001b[0m\u001b[37m\u001b[0m \u001b[1m0s\u001b[0m 24ms/step - loss: 0.0432\n",
            "Successfully trained neural network model.\n"
          ]
        }
      ]
    },
    {
      "cell_type": "code",
      "metadata": {
        "colab": {
          "base_uri": "https://localhost:8080/"
        },
        "id": "eb951275",
        "outputId": "9b0c110e-464f-4210-9554-f6c5f2f9852b"
      },
      "source": [
        "try:\n",
        "    scaled_predictions = model.predict(scaled_years)\n",
        "    predictions = scaler.inverse_transform(scaled_predictions)\n",
        "    print(\"Successfully made predictions on scaled years and inverse transformed.\")\n",
        "except:\n",
        "    print(\"Failed to make predictions on scaled years and inverse transformed.\")\n",
        "    raise Exception\n",
        "\n",
        "try:\n",
        "    predicted_years = scaler.inverse_transform(scaled_years).flatten()\n",
        "    print(\"Successfully inverse transformed scaled years and flattened.\")\n",
        "except:\n",
        "    print(\"Failed to inverse transform scaled years and flatten.\")\n",
        "    raise Exception\n",
        "\n",
        "try:\n",
        "    year_input_scaled = scaler.transform(np.array([[year_input.value]]))\n",
        "    print(f\"Successfully scaled input year {year_input.value}.\")\n",
        "except:\n",
        "    print(f\"Failed to scale input year {year_input.value}.\")\n",
        "    raise Exception\n",
        "\n",
        "try:\n",
        "    scaled_predicted_future_population = model.predict(year_input_scaled)\n",
        "    print(f\"Successfully predicted scaled future population for {year_input.value}.\")\n",
        "except:\n",
        "    print(f\"Failed to predict scaled future population for {year_input.value}.\")\n",
        "    raise Exception\n",
        "\n",
        "try:\n",
        "    predicted_future_population = scaler.inverse_transform(scaled_predicted_future_population)[0][0]\n",
        "    print(f\"Successfully inverse transformed predicted future population for {year_input.value}.\")\n",
        "except:\n",
        "    print(f\"Failed to inverse transformed predicted future population for {year_input.value}.\")\n",
        "    raise Exception"
      ],
      "execution_count": null,
      "outputs": [
        {
          "output_type": "stream",
          "name": "stdout",
          "text": [
            "\u001b[1m2/2\u001b[0m \u001b[32m━━━━━━━━━━━━━━━━━━━━\u001b[0m\u001b[37m\u001b[0m \u001b[1m0s\u001b[0m 40ms/step\n",
            "Successfully made predictions on scaled years and inverse transformed.\n",
            "Successfully inverse transformed scaled years and flattened.\n",
            "Successfully scaled input year 2030.\n",
            "\u001b[1m1/1\u001b[0m \u001b[32m━━━━━━━━━━━━━━━━━━━━\u001b[0m\u001b[37m\u001b[0m \u001b[1m0s\u001b[0m 34ms/step\n",
            "Successfully predicted scaled future population for 2030.\n",
            "Successfully inverse transformed predicted future population for 2030.\n"
          ]
        }
      ]
    },
    {
      "cell_type": "code",
      "metadata": {
        "colab": {
          "base_uri": "https://localhost:8080/",
          "height": 582
        },
        "id": "a12f42bf",
        "outputId": "2d527544-7699-4c20-ea87-c4542eac1f3b"
      },
      "source": [
        "try:\n",
        "    plt.figure(figsize=(10, 6))\n",
        "    plt.scatter(finalDataFrame['Year'], finalDataFrame['Population'], label='Original Data')\n",
        "    plt.plot(x_curve, y_curve, color='purple', label='Polynomial Fit')\n",
        "    plt.plot(predicted_years, predictions, color='red', label='Neural Network Fit')\n",
        "    plt.scatter(year_input.value, predicted_future_population, color='red', label=f'Prediction for {year_input.value}', marker='X', s=100)\n",
        "    plt.xlabel('Year')\n",
        "    plt.ylabel('People (millions)')\n",
        "    plt.title(f'People with HIV vs. Year with Predictions (Predicted Population for {year_input.value}: {predicted_future_population:.2f} million)')\n",
        "    plt.legend()\n",
        "    plt.grid(True)\n",
        "    plt.show()\n",
        "    print(\"Successfully plotted data with both fits and prediction.\")\n",
        "except:\n",
        "    print(\"Failed to plot data with both fits and prediction.\")\n",
        "    raise Exception"
      ],
      "execution_count": null,
      "outputs": [
        {
          "output_type": "display_data",
          "data": {
            "text/plain": [
              "<Figure size 1000x600 with 1 Axes>"
            ],
            "image/png": "[encoded data removed]"
          },
          "metadata": {}
        },
        {
          "output_type": "stream",
          "name": "stdout",
          "text": [
            "Successfully plotted data with both fits and prediction.\n"
          ]
        }
      ]
    }
  ]
}